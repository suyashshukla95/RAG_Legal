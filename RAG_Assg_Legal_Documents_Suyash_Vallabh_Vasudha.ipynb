{
 "cells": [
  {
   "cell_type": "markdown",
   "id": "lf5lYawIw8tE",
   "metadata": {
    "id": "lf5lYawIw8tE"
   },
   "source": [
    "# **Extracting Information from Legal Documents Using RAG**\n"
   ]
  },
  {
   "cell_type": "markdown",
   "id": "NY1InIbkw80B",
   "metadata": {
    "id": "NY1InIbkw80B"
   },
   "source": [
    "## **Objective**"
   ]
  },
  {
   "cell_type": "markdown",
   "id": "3403a4b5",
   "metadata": {
    "id": "3403a4b5"
   },
   "source": [
    "The main objective of this assignment is to process and analyse a collection text files containing legal agreements (e.g., NDAs) to prepare them for implementing a **Retrieval-Augmented Generation (RAG)** system. This involves:\n",
    "\n",
    "* Understand the Cleaned Data : Gain a comprehensive understanding of the structure, content, and context of the cleaned dataset.\n",
    "* Perform Exploratory Analysis : Conduct bivariate and multivariate analyses to uncover relationships and trends within the cleaned data.\n",
    "* Create Visualisations : Develop meaningful visualisations to support the analysis and make findings interpretable.\n",
    "* Derive Insights and Conclusions : Extract valuable insights from the cleaned data and provide clear, actionable conclusions.\n",
    "* Document the Process : Provide a detailed description of the data, its attributes, and the steps taken during the analysis for reproducibility and clarity.\n",
    "\n",
    "The ultimate goal is to transform the raw text data into a clean, structured, and analysable format that can be effectively used to build and train a RAG system for tasks like information retrieval, question-answering, and knowledge extraction related to legal agreements."
   ]
  },
  {
   "cell_type": "markdown",
   "id": "3TTEcbb5hIM-",
   "metadata": {
    "id": "3TTEcbb5hIM-"
   },
   "source": [
    "### **Business Value**  \n"
   ]
  },
  {
   "cell_type": "markdown",
   "id": "ZsfkEL2CgljF",
   "metadata": {
    "id": "ZsfkEL2CgljF"
   },
   "source": [
    "The project aims to leverage RAG to enhance legal document processing for businesses, law firms, and regulatory bodies. The key business objectives include:\n",
    "\n",
    "* Faster Legal Research: <br> Reduce the time lawyers and compliance officers spend searching for relevant case laws, precedents, statutes, or contract clauses.\n",
    "* Improved Contract Analysis: <br> Automatically extract key terms, obligations, and risks from lengthy contracts.\n",
    "* Regulatory Compliance Monitoring: <br> Help businesses stay updated with legal and regulatory changes by retrieving relevant legal updates.\n",
    "* Enhanced Decision-Making: <br> Provide accurate and context-aware legal insights to assist in risk assessment and legal strategy.\n",
    "\n",
    "\n",
    "**Use Cases**\n",
    "* Legal Chatbots\n",
    "* Contract Review Automation\n",
    "* Tracking Regulatory Changes and Compliance Monitoring\n",
    "* Case Law Analysis of past judgments\n",
    "* Due Diligence & Risk Assessment"
   ]
  },
  {
   "cell_type": "markdown",
   "id": "rDp_EWxVOhUu",
   "metadata": {
    "id": "rDp_EWxVOhUu"
   },
   "source": [
    "## **1. Data Loading, Preparation and Analysis** <font color=red> [20 marks] </font><br>"
   ]
  },
  {
   "cell_type": "markdown",
   "id": "JZGTCfyUxalZ",
   "metadata": {
    "id": "JZGTCfyUxalZ"
   },
   "source": [
    "### **1.1 Data Understanding**"
   ]
  },
  {
   "cell_type": "markdown",
   "id": "ok6sSYNAiG8V",
   "metadata": {
    "id": "ok6sSYNAiG8V"
   },
   "source": [
    "The dataset contains legal documents and contracts collected from various sources. The documents are present as text files (`.txt`) in the *corpus* folder.\n",
    "\n",
    "    There are four types of documents in the *courpus* folder, divided into four subfolders.\n",
    "    - `contractnli`: contains various non-disclosure and confidentiality agreements\n",
    "    - `cuad`: contains contracts with annotated legal clauses\n",
    "    - `maud`: contains various merger/acquisition contracts and agreements\n",
    "    - `privacy_qa`: a question-answering dataset containing privacy policies\n",
    "\n",
    "    The dataset also contains evaluation files in JSON format in the *benchmark* folder. The files contain the questions and their answers, along with sources. For each of the above four folders, there is a `json` file: `contractnli.json`, `cuad.json`, `maud.json` `privacy_qa.json`. The file structure is as follows:\n",
    "\n",
    "    ```\n",
    "    {\n",
    "        \"tests\": [\n",
    "            {\n",
    "                \"query\": <question1>,\n",
    "                \"snippets\": [{\n",
    "                        \"file_path\": <source_file1>,\n",
    "                        \"span\": [ begin_position, end_position ],\n",
    "                        \"answer\": <relevant answer to the question 1>\n",
    "                    },\n",
    "                    {\n",
    "                        \"file_path\": <source_file2>,\n",
    "                        \"span\": [ begin_position, end_position ],\n",
    "                        \"answer\": <relevant answer to the question 2>\n",
    "                    }, ....\n",
    "                ]\n",
    "            },\n",
    "            {\n",
    "                \"query\": <question2>,\n",
    "                \"snippets\": [{<answer context for que 2>}]\n",
    "            },\n",
    "            ... <more queries>\n",
    "        ]\n",
    "    }\n",
    "```"
   ]
  },
  {
   "cell_type": "markdown",
   "id": "S7Ac8VxvjWnw",
   "metadata": {
    "id": "S7Ac8VxvjWnw"
   },
   "source": [
    "### **1.2 Load and Preprocess the data** <font color=red> [5 marks] </font><br>"
   ]
  },
  {
   "cell_type": "markdown",
   "id": "gJ8fA4Nh3fHg",
   "metadata": {
    "id": "gJ8fA4Nh3fHg"
   },
   "source": [
    "#### Loading libraries"
   ]
  },
  {
   "cell_type": "code",
   "execution_count": 12,
   "id": "BqyFHhSn48tC",
   "metadata": {
    "id": "BqyFHhSn48tC"
   },
   "outputs": [],
   "source": [
    "# ## The following libraries might be useful\n",
    "# %pip install -q langchain-openai \n",
    "# %pip install -U -q langchain-community \n",
    "# %pip install -U -q langchain-chroma \n",
    "# %pip install -U -q datasets\n",
    "# %pip install -U -q ragas \n",
    "# %pip install -U -q rouge_score \n",
    "# %pip install nltk --quiet\n",
    "#%pip install -U huggingface_hub==0.30.0\n",
    "#%pip install -U -q seaborn\n",
    "#%pip install matplotlib --quiet\n"
   ]
  },
  {
   "cell_type": "code",
   "execution_count": 13,
   "id": "Qpn-qbhAi58F",
   "metadata": {
    "id": "Qpn-qbhAi58F"
   },
   "outputs": [],
   "source": [
    "from pathlib import Path\n",
    "import pandas as pd\n",
    "from operator import itemgetter\n",
    "import json\n",
    "import tiktoken\n",
    "import openai\n",
    "import chromadb"
   ]
  },
  {
   "cell_type": "markdown",
   "id": "zOMf-tfIiOlp",
   "metadata": {
    "id": "zOMf-tfIiOlp"
   },
   "source": [
    "#### **1.2.1** <font color=red> [3 marks] </font>\n",
    "Load all `.txt` files from the folders."
   ]
  },
  {
   "cell_type": "markdown",
   "id": "f2ea36ba",
   "metadata": {
    "id": "f2ea36ba"
   },
   "source": [
    "You can utilise document loaders from the options provided by the LangChain community.\n",
    "\n",
    "Optionally, you can also read the files manually, while ensuring proper handling of encoding issues (e.g., utf-8, latin1). In such case, also store the file content along with metadata (e.g., file name, directory path) for traceability."
   ]
  },
  {
   "cell_type": "code",
   "execution_count": 14,
   "id": "I9rTY8DWx2Wj",
   "metadata": {
    "id": "I9rTY8DWx2Wj"
   },
   "outputs": [],
   "source": [
    "# Load the files as documents\n",
    "from langchain.document_loaders import TextLoader\n",
    "\n",
    "corpus_dir = Path(\"corpus\")\n",
    "documents = []\n",
    "\n",
    "for folder in corpus_dir.iterdir():\n",
    "    if folder.is_dir():\n",
    "        for file in folder.glob(\"*.txt\"):\n",
    "            try:\n",
    "                loader = TextLoader(str(file), encoding='utf-8')\n",
    "                docs = loader.load()\n",
    "                for doc in docs:\n",
    "                    doc.metadata['category'] = folder.name\n",
    "                    documents.append(doc)\n",
    "            except Exception as e:\n",
    "                print(f\"Error loading {file}: {e}\")\n"
   ]
  },
  {
   "cell_type": "markdown",
   "id": "K4HYLoUjwmMs",
   "metadata": {
    "id": "K4HYLoUjwmMs"
   },
   "source": [
    "#### **1.2.2** <font color=red> [2 marks] </font>\n",
    "Preprocess the text data to remove noise and prepare it for analysis."
   ]
  },
  {
   "cell_type": "markdown",
   "id": "e9793fdf",
   "metadata": {
    "id": "e9793fdf"
   },
   "source": [
    "Remove special characters, extra whitespace, and irrelevant content such as email and telephone contact info.\n",
    "Normalise text (e.g., convert to lowercase, remove stop words).\n",
    "Handle missing or corrupted data by logging errors and skipping problematic files."
   ]
  },
  {
   "cell_type": "code",
   "execution_count": 15,
   "id": "1ec87e69",
   "metadata": {
    "id": "1ec87e69"
   },
   "outputs": [],
   "source": [
    "\n",
    "import re\n",
    "\n",
    "# Clean and preprocess the data\n",
    "#\n",
    "# Removes all characters from text that are not:\n",
    "#     Lowercase letters (a to z)\n",
    "#     Digits (0 to 9)\n",
    "#     Whitespace characters (\\s includes space, tab, newline, etc.)\n",
    "\n",
    "def clean_text(text):\n",
    "    text = text.lower()\n",
    "    text = re.sub(r'[^a-z0-9\\s]', '', text)\n",
    "    text = re.sub(r'\\s+', ' ', text).strip()\n",
    "    return text\n",
    "\n",
    "for doc in documents:\n",
    "    doc.page_content = clean_text(doc.page_content)\n"
   ]
  },
  {
   "cell_type": "markdown",
   "id": "b9e90470",
   "metadata": {
    "id": "b9e90470"
   },
   "source": [
    "### **1.3 Exploratory Data Analysis** <font color=red> [10 marks] </font><br>"
   ]
  },
  {
   "cell_type": "markdown",
   "id": "Nd1K4yhIzyPp",
   "metadata": {
    "id": "Nd1K4yhIzyPp"
   },
   "source": [
    "#### **1.3.1** <font color=red> [1 marks] </font>\n",
    "Calculate the average, maximum and minimum document length."
   ]
  },
  {
   "cell_type": "code",
   "execution_count": 16,
   "id": "tQT1UIcOHSp9",
   "metadata": {
    "id": "tQT1UIcOHSp9"
   },
   "outputs": [
    {
     "name": "stdout",
     "output_type": "stream",
     "text": [
      "Average: 16016.88, Max: 155972, Min: 217\n"
     ]
    }
   ],
   "source": [
    "# Calculate the mean, maximum and minimum document length.\n",
    "lengths = [len(doc.page_content.split()) for doc in documents]\n",
    "print(f\"Average: {sum(lengths)/len(lengths):.2f}, Max: {max(lengths)}, Min: {min(lengths)}\")"
   ]
  },
  {
   "cell_type": "markdown",
   "id": "18xQu__O0wLv",
   "metadata": {
    "id": "18xQu__O0wLv"
   },
   "source": [
    "#### **1.3.2** <font color=red> [4 marks] </font>\n",
    "Analyse the frequency of occurrence of words and find the most and least occurring words."
   ]
  },
  {
   "cell_type": "markdown",
   "id": "IQ_i5YfFH2dg",
   "metadata": {
    "id": "IQ_i5YfFH2dg"
   },
   "source": [
    "Find the 20 most common and least common words in the text. Ignore stop words such as articles and prepositions."
   ]
  },
  {
   "cell_type": "code",
   "execution_count": 17,
   "id": "Q8eiDTy2Ic8z",
   "metadata": {
    "id": "Q8eiDTy2Ic8z"
   },
   "outputs": [
    {
     "name": "stdout",
     "output_type": "stream",
     "text": [
      "Most Common: [('company', 148170), ('shall', 107995), ('agreement', 104559), ('section', 75344), ('parent', 58009), ('party', 49657), ('date', 39294), ('time', 35251), ('material', 34208), ('merger', 33843), ('subsidiaries', 33317), ('applicable', 31369), ('including', 29398), ('respect', 28848), ('may', 28069), ('stock', 26651), ('information', 25681), ('parties', 24610), ('b', 23935), ('business', 23497)]\n",
      "Least Common: [('httpspinsightmediacomprivacy', 1), ('smaato', 1), ('httpswwwsmaatocomprivacy', 1), ('soomla', 1), ('httpaboutsoomlaenduserprivacypolicy', 1), ('startappcom', 1), ('httpswwwstartappcompolicyprivacypolicy', 1), ('tapjoy', 1), ('httpsdevtapjoycomfaqtapjoyprivacypolicy', 1), ('tapresearch', 1), ('httpswwwtapresearchcomuserprivacy', 1), ('vungle', 1), ('httpsvunglecomprivacypolicy', 1), ('checkins', 1), ('httpwwwaboutadsinfochoices', 1), ('httpwwwyouronlinechoiceseu', 1), ('nonmarketing', 1), ('peoplefuncom', 1), ('2257522579', 1), ('newer', 1)]\n"
     ]
    }
   ],
   "source": [
    "import nltk\n",
    "from nltk.corpus import stopwords\n",
    "from collections import Counter\n",
    "\n",
    "# Find frequency of occurence of words\n",
    "# Download stopwords if not already present\n",
    "nltk.download('stopwords', quiet=True)\n",
    "stop_words = set(stopwords.words('english'))\n",
    "\n",
    "all_words = ' '.join(doc.page_content for doc in documents).split()\n",
    "filtered_words = [word for word in all_words if word not in stop_words]\n",
    "word_counts = Counter(filtered_words)\n",
    "\n",
    "most_common = word_counts.most_common(20)\n",
    "least_common = word_counts.most_common()[-20:]\n",
    "print(\"Most Common:\", most_common)\n",
    "print(\"Least Common:\", least_common)\n",
    "\n"
   ]
  },
  {
   "cell_type": "markdown",
   "id": "xlF55RNjz9pQ",
   "metadata": {
    "id": "xlF55RNjz9pQ"
   },
   "source": [
    "#### **1.3.3** <font color=red> [4 marks] </font>\n",
    "Analyse the similarity of different documents to each other based on TF-IDF vectors."
   ]
  },
  {
   "cell_type": "markdown",
   "id": "jciCNMelOGPJ",
   "metadata": {
    "id": "jciCNMelOGPJ"
   },
   "source": [
    "Transform some documents to TF-IDF vectors and calculate their similarity matrix using a suitable distance function. If contracts contain duplicate or highly similar clauses, similarity calculation can help detect them.\n",
    "\n",
    "Identify for the first 10 documents and then for 10 random documents. What do you observe?"
   ]
  },
  {
   "cell_type": "code",
   "execution_count": 18,
   "id": "M-_SrvDcMnKi",
   "metadata": {
    "id": "M-_SrvDcMnKi"
   },
   "outputs": [
    {
     "data": {
      "image/png": "[encoded data removed]",
      "text/plain": [
       "<Figure size 640x480 with 2 Axes>"
      ]
     },
     "metadata": {},
     "output_type": "display_data"
    }
   ],
   "source": [
    "from sklearn.feature_extraction.text import TfidfVectorizer\n",
    "from sklearn.metrics.pairwise import cosine_similarity\n",
    "import seaborn as sns\n",
    "import matplotlib.pyplot as plt\n",
    "\n",
    "\n",
    "# Transform the page contents of documents\n",
    "vectorizer = TfidfVectorizer(stop_words='english')\n",
    "corpus_texts = [doc.page_content for doc in documents[:50]]\n",
    "tfidf_matrix = vectorizer.fit_transform(corpus_texts)\n",
    "\n",
    "\n",
    "# Compute similarity scores\n",
    "\n",
    "similarity = cosine_similarity(tfidf_matrix)\n",
    "\n",
    "# Plot heatmap of similarity\n",
    "sns.heatmap(similarity[:10, :10], cmap='viridis')\n",
    "plt.title(\"TF-IDF Cosine Similarity (First 10 Docs)\")\n",
    "plt.show()"
   ]
  },
  {
   "cell_type": "code",
   "execution_count": 19,
   "id": "pd99eXtnK2DU",
   "metadata": {
    "id": "pd99eXtnK2DU"
   },
   "outputs": [
    {
     "name": "stdout",
     "output_type": "stream",
     "text": [
      "Random indices: [1, 5, 9, 3, 4, 8, 2, 7, 0, 6]\n"
     ]
    }
   ],
   "source": [
    "# create a list of 10 random integers\n",
    "\n",
    "import random\n",
    "random_indices = random.sample(range(0, 10), 10)\n",
    "print(\"Random indices:\", random_indices)\n"
   ]
  },
  {
   "cell_type": "code",
   "execution_count": 20,
   "id": "t31ngfZTJimS",
   "metadata": {
    "id": "t31ngfZTJimS"
   },
   "outputs": [
    {
     "name": "stdout",
     "output_type": "stream",
     "text": [
      "Cosine Similarity Matrix (10 Random Docs):\n",
      "[[1.         0.47470668 0.09470801 0.09932709 0.39304023 0.14482518\n",
      "  0.29697074 0.15226363 0.13147788 0.18311777]\n",
      " [0.47470668 1.         0.139061   0.14941581 0.70564563 0.22004153\n",
      "  0.41608301 0.17439445 0.20349473 0.33927201]\n",
      " [0.09470801 0.139061   1.         0.10937982 0.1042896  0.15865078\n",
      "  0.09028613 0.18837597 0.13282735 0.12769328]\n",
      " [0.09932709 0.14941581 0.10937982 1.         0.11188021 0.16709365\n",
      "  0.09989571 0.16955517 0.14816324 0.12391782]\n",
      " [0.39304023 0.70564563 0.1042896  0.11188021 1.         0.17030707\n",
      "  0.35568679 0.13522422 0.17265844 0.28428705]\n",
      " [0.14482518 0.22004153 0.15865078 0.16709365 0.17030707 1.\n",
      "  0.14447664 0.32186338 0.22646192 0.18301993]\n",
      " [0.29697074 0.41608301 0.09028613 0.09989571 0.35568679 0.14447664\n",
      "  1.         0.12160748 0.13953812 0.21152578]\n",
      " [0.15226363 0.17439445 0.18837597 0.16955517 0.13522422 0.32186338\n",
      "  0.12160748 1.         0.24865856 0.14594918]\n",
      " [0.13147788 0.20349473 0.13282735 0.14816324 0.17265844 0.22646192\n",
      "  0.13953812 0.24865856 1.         0.15250578]\n",
      " [0.18311777 0.33927201 0.12769328 0.12391782 0.28428705 0.18301993\n",
      "  0.21152578 0.14594918 0.15250578 1.        ]]\n"
     ]
    },
    {
     "data": {
      "image/png": "[encoded data removed]",
      "text/plain": [
       "<Figure size 800x600 with 2 Axes>"
      ]
     },
     "metadata": {},
     "output_type": "display_data"
    }
   ],
   "source": [
    "# Compute similarity scores for 10 random documents\n",
    "\n",
    "# Select 10 random documents\n",
    "random_docs = random.sample(documents, 10)\n",
    "random_texts = [doc.page_content for doc in random_docs]\n",
    "\n",
    "# Compute TF-IDF vectors\n",
    "vectorizer = TfidfVectorizer(stop_words='english')\n",
    "tfidf_matrix = vectorizer.fit_transform(random_texts)\n",
    "\n",
    "# Compute cosine similarity\n",
    "similarity_matrix = cosine_similarity(tfidf_matrix)\n",
    "\n",
    "# Print similarity matrix\n",
    "print(\"Cosine Similarity Matrix (10 Random Docs):\")\n",
    "print(similarity_matrix)\n",
    "\n",
    "# Optional: Visualize the similarity matrix\n",
    "plt.figure(figsize=(8, 6))\n",
    "sns.heatmap(similarity_matrix, annot=True, fmt=\".2f\", cmap=\"YlGnBu\")\n",
    "plt.title(\"TF-IDF Cosine Similarity (10 Random Documents)\")\n",
    "plt.show()\n"
   ]
  },
  {
   "cell_type": "markdown",
   "id": "3cfd0f53",
   "metadata": {
    "id": "3cfd0f53"
   },
   "source": [
    "### **1.4 Document Creation and Chunking** <font color=red> [5 marks] </font><br>"
   ]
  },
  {
   "cell_type": "markdown",
   "id": "pCw3NzcE3waS",
   "metadata": {
    "id": "pCw3NzcE3waS"
   },
   "source": [
    "#### **1.4.1** <font color=red> [5 marks] </font>\n",
    "Perform appropriate steps to split the text into chunks."
   ]
  },
  {
   "cell_type": "code",
   "execution_count": 21,
   "id": "TjZ6yf9r2p1F",
   "metadata": {
    "id": "TjZ6yf9r2p1F"
   },
   "outputs": [],
   "source": [
    "\n",
    "from langchain.text_splitter import RecursiveCharacterTextSplitter\n",
    "\n",
    "# Process files and generate chunks\n",
    "splitter = RecursiveCharacterTextSplitter(chunk_size=500, chunk_overlap=50)\n",
    "all_chunks = []\n",
    "for doc in documents:\n",
    "    chunks = splitter.split_documents([doc])\n",
    "    all_chunks.extend(chunks)\n"
   ]
  },
  {
   "cell_type": "markdown",
   "id": "LeAeTqpZ-DYw",
   "metadata": {
    "id": "LeAeTqpZ-DYw"
   },
   "source": [
    "## **2. Vector Database and RAG Chain Creation** <font color=red> [15 marks] </font><br>"
   ]
  },
  {
   "cell_type": "markdown",
   "id": "YoH_Ac6K6aQZ",
   "metadata": {
    "id": "YoH_Ac6K6aQZ"
   },
   "source": [
    "### **2.1 Vector Embedding and Vector Database Creation** <font color=red> [7 marks] </font><br>"
   ]
  },
  {
   "cell_type": "markdown",
   "id": "bBfj5ycC59lU",
   "metadata": {
    "id": "bBfj5ycC59lU"
   },
   "source": [
    "#### **2.1.1** <font color=red> [2 marks] </font>\n",
    "Initialise an embedding function for loading the embeddings into the vector database."
   ]
  },
  {
   "cell_type": "markdown",
   "id": "v-QeR5N_7jiw",
   "metadata": {
    "id": "v-QeR5N_7jiw"
   },
   "source": [
    "Initialise a function to transform the text to vectors using OPENAI Embeddings module. You can also use this function to transform during vector DB creation itself."
   ]
  },
  {
   "cell_type": "code",
   "execution_count": 22,
   "id": "b3Jaq3HEhpxN",
   "metadata": {
    "id": "b3Jaq3HEhpxN"
   },
   "outputs": [],
   "source": [
    "# Fetch your OPENAI API Key as an environment variable\n",
    "\n",
    "from langchain.embeddings import OpenAIEmbeddings\n",
    "from langchain.vectorstores import Chroma\n",
    "import os\n",
    "os.environ[\"OPENAI_API_KEY\"] = \"\"\n"
   ]
  },
  {
   "cell_type": "code",
   "execution_count": 24,
   "id": "purQgINbhpxO",
   "metadata": {
    "id": "purQgINbhpxO"
   },
   "outputs": [
    {
     "name": "stdout",
     "output_type": "stream",
     "text": [
      "153524\n"
     ]
    }
   ],
   "source": [
    "# Initialise an embedding function\n",
    "#from langchain.embeddings import HuggingFaceEmbeddings\n",
    "#embedding_function = HuggingFaceEmbeddings(model_name=\"sentence-transformers/all-MiniLM-L6-v2\")\n",
    "#embedding_function = OpenAIEmbeddings()\n",
    "print(len(all_chunks))"
   ]
  },
  {
   "cell_type": "markdown",
   "id": "WTkTIerj5-KI",
   "metadata": {
    "id": "WTkTIerj5-KI"
   },
   "source": [
    "#### **2.1.2** <font color=red> [5 marks] </font>\n",
    "Load the embeddings to a vector database."
   ]
  },
  {
   "cell_type": "markdown",
   "id": "o6rEbd7477R8",
   "metadata": {
    "id": "o6rEbd7477R8"
   },
   "source": [
    "Create a directory for vector database and enter embedding data to the vector DB."
   ]
  },
  {
   "cell_type": "code",
   "execution_count": 25,
   "id": "IaqfjQJf2v8Y",
   "metadata": {
    "id": "IaqfjQJf2v8Y"
   },
   "outputs": [
    {
     "name": "stderr",
     "output_type": "stream",
     "text": [
      "C:\\Users\\shashgup\\AppData\\Local\\Temp\\ipykernel_30492\\467422998.py:9: LangChainDeprecationWarning: The class `HuggingFaceEmbeddings` was deprecated in LangChain 0.2.2 and will be removed in 1.0. An updated version of the class exists in the :class:`~langchain-huggingface package and should be used instead. To use it run `pip install -U :class:`~langchain-huggingface` and import as `from :class:`~langchain_huggingface import HuggingFaceEmbeddings``.\n",
      "  embedding_function = HuggingFaceEmbeddings(model_name=\"sentence-transformers/all-MiniLM-L6-v2\")\n",
      "  0%|          | 0/154 [00:00<?, ?it/s]"
     ]
    },
    {
     "name": "stdout",
     "output_type": "stream",
     "text": [
      "Processing batch 1/154 with 1000 chunks\n"
     ]
    },
    {
     "name": "stderr",
     "output_type": "stream",
     "text": [
      "  1%|          | 1/154 [00:09<24:41,  9.68s/it]"
     ]
    },
    {
     "name": "stdout",
     "output_type": "stream",
     "text": [
      "Processing batch 2/154 with 1000 chunks\n"
     ]
    },
    {
     "name": "stderr",
     "output_type": "stream",
     "text": [
      "  1%|▏         | 2/154 [00:18<23:24,  9.24s/it]"
     ]
    },
    {
     "name": "stdout",
     "output_type": "stream",
     "text": [
      "Processing batch 3/154 with 1000 chunks\n"
     ]
    },
    {
     "name": "stderr",
     "output_type": "stream",
     "text": [
      "  2%|▏         | 3/154 [00:28<23:34,  9.37s/it]"
     ]
    },
    {
     "name": "stdout",
     "output_type": "stream",
     "text": [
      "Processing batch 4/154 with 1000 chunks\n"
     ]
    },
    {
     "name": "stderr",
     "output_type": "stream",
     "text": [
      "  3%|▎         | 4/154 [00:37<23:36,  9.44s/it]"
     ]
    },
    {
     "name": "stdout",
     "output_type": "stream",
     "text": [
      "Processing batch 5/154 with 1000 chunks\n"
     ]
    },
    {
     "name": "stderr",
     "output_type": "stream",
     "text": [
      "  3%|▎         | 5/154 [00:47<23:28,  9.45s/it]"
     ]
    },
    {
     "name": "stdout",
     "output_type": "stream",
     "text": [
      "Processing batch 6/154 with 1000 chunks\n"
     ]
    },
    {
     "name": "stderr",
     "output_type": "stream",
     "text": [
      "  4%|▍         | 6/154 [01:12<36:50, 14.94s/it]"
     ]
    },
    {
     "name": "stdout",
     "output_type": "stream",
     "text": [
      "Processing batch 7/154 with 1000 chunks\n"
     ]
    },
    {
     "name": "stderr",
     "output_type": "stream",
     "text": [
      "  5%|▍         | 7/154 [01:48<53:14, 21.73s/it]"
     ]
    },
    {
     "name": "stdout",
     "output_type": "stream",
     "text": [
      "Processing batch 8/154 with 1000 chunks\n"
     ]
    },
    {
     "name": "stderr",
     "output_type": "stream",
     "text": [
      "  5%|▌         | 8/154 [02:11<53:56, 22.17s/it]"
     ]
    },
    {
     "name": "stdout",
     "output_type": "stream",
     "text": [
      "Processing batch 9/154 with 1000 chunks\n"
     ]
    },
    {
     "name": "stderr",
     "output_type": "stream",
     "text": [
      "  6%|▌         | 9/154 [02:20<43:56, 18.18s/it]"
     ]
    },
    {
     "name": "stdout",
     "output_type": "stream",
     "text": [
      "Processing batch 10/154 with 1000 chunks\n"
     ]
    },
    {
     "name": "stderr",
     "output_type": "stream",
     "text": [
      "  6%|▋         | 10/154 [02:48<50:24, 21.01s/it]"
     ]
    },
    {
     "name": "stdout",
     "output_type": "stream",
     "text": [
      "Processing batch 11/154 with 1000 chunks\n"
     ]
    },
    {
     "name": "stderr",
     "output_type": "stream",
     "text": [
      "  7%|▋         | 11/154 [03:26<1:02:44, 26.32s/it]"
     ]
    },
    {
     "name": "stdout",
     "output_type": "stream",
     "text": [
      "Processing batch 12/154 with 1000 chunks\n"
     ]
    },
    {
     "name": "stderr",
     "output_type": "stream",
     "text": [
      "  8%|▊         | 12/154 [04:06<1:12:01, 30.44s/it]"
     ]
    },
    {
     "name": "stdout",
     "output_type": "stream",
     "text": [
      "Processing batch 13/154 with 1000 chunks\n"
     ]
    },
    {
     "name": "stderr",
     "output_type": "stream",
     "text": [
      "  8%|▊         | 13/154 [04:47<1:18:41, 33.49s/it]"
     ]
    },
    {
     "name": "stdout",
     "output_type": "stream",
     "text": [
      "Processing batch 14/154 with 1000 chunks\n"
     ]
    },
    {
     "name": "stderr",
     "output_type": "stream",
     "text": [
      "  9%|▉         | 14/154 [05:04<1:06:50, 28.65s/it]"
     ]
    },
    {
     "name": "stdout",
     "output_type": "stream",
     "text": [
      "Processing batch 15/154 with 1000 chunks\n"
     ]
    },
    {
     "name": "stderr",
     "output_type": "stream",
     "text": [
      " 10%|▉         | 15/154 [05:14<53:24, 23.05s/it]  "
     ]
    },
    {
     "name": "stdout",
     "output_type": "stream",
     "text": [
      "Processing batch 16/154 with 1000 chunks\n"
     ]
    },
    {
     "name": "stderr",
     "output_type": "stream",
     "text": [
      " 10%|█         | 16/154 [05:26<45:23, 19.74s/it]"
     ]
    },
    {
     "name": "stdout",
     "output_type": "stream",
     "text": [
      "Processing batch 17/154 with 1000 chunks\n"
     ]
    },
    {
     "name": "stderr",
     "output_type": "stream",
     "text": [
      " 11%|█         | 17/154 [05:56<52:17, 22.90s/it]"
     ]
    },
    {
     "name": "stdout",
     "output_type": "stream",
     "text": [
      "Processing batch 18/154 with 1000 chunks\n"
     ]
    },
    {
     "name": "stderr",
     "output_type": "stream",
     "text": [
      " 12%|█▏        | 18/154 [06:21<53:09, 23.45s/it]"
     ]
    },
    {
     "name": "stdout",
     "output_type": "stream",
     "text": [
      "Processing batch 19/154 with 1000 chunks\n"
     ]
    },
    {
     "name": "stderr",
     "output_type": "stream",
     "text": [
      " 12%|█▏        | 19/154 [06:32<44:18, 19.69s/it]"
     ]
    },
    {
     "name": "stdout",
     "output_type": "stream",
     "text": [
      "Processing batch 20/154 with 1000 chunks\n"
     ]
    },
    {
     "name": "stderr",
     "output_type": "stream",
     "text": [
      " 13%|█▎        | 20/154 [06:42<37:15, 16.68s/it]"
     ]
    },
    {
     "name": "stdout",
     "output_type": "stream",
     "text": [
      "Processing batch 21/154 with 1000 chunks\n"
     ]
    },
    {
     "name": "stderr",
     "output_type": "stream",
     "text": [
      " 14%|█▎        | 21/154 [06:52<32:39, 14.73s/it]"
     ]
    },
    {
     "name": "stdout",
     "output_type": "stream",
     "text": [
      "Processing batch 22/154 with 1000 chunks\n"
     ]
    },
    {
     "name": "stderr",
     "output_type": "stream",
     "text": [
      " 14%|█▍        | 22/154 [07:01<28:49, 13.10s/it]"
     ]
    },
    {
     "name": "stdout",
     "output_type": "stream",
     "text": [
      "Processing batch 23/154 with 1000 chunks\n"
     ]
    },
    {
     "name": "stderr",
     "output_type": "stream",
     "text": [
      " 15%|█▍        | 23/154 [07:11<26:09, 11.98s/it]"
     ]
    },
    {
     "name": "stdout",
     "output_type": "stream",
     "text": [
      "Processing batch 24/154 with 1000 chunks\n"
     ]
    },
    {
     "name": "stderr",
     "output_type": "stream",
     "text": [
      " 16%|█▌        | 24/154 [07:21<24:40, 11.39s/it]"
     ]
    },
    {
     "name": "stdout",
     "output_type": "stream",
     "text": [
      "Processing batch 25/154 with 1000 chunks\n"
     ]
    },
    {
     "name": "stderr",
     "output_type": "stream",
     "text": [
      " 16%|█▌        | 25/154 [07:30<23:16, 10.83s/it]"
     ]
    },
    {
     "name": "stdout",
     "output_type": "stream",
     "text": [
      "Processing batch 26/154 with 1000 chunks\n"
     ]
    },
    {
     "name": "stderr",
     "output_type": "stream",
     "text": [
      " 17%|█▋        | 26/154 [07:55<32:13, 15.11s/it]"
     ]
    },
    {
     "name": "stdout",
     "output_type": "stream",
     "text": [
      "Processing batch 27/154 with 1000 chunks\n"
     ]
    },
    {
     "name": "stderr",
     "output_type": "stream",
     "text": [
      " 18%|█▊        | 27/154 [08:28<43:02, 20.34s/it]"
     ]
    },
    {
     "name": "stdout",
     "output_type": "stream",
     "text": [
      "Processing batch 28/154 with 1000 chunks\n"
     ]
    },
    {
     "name": "stderr",
     "output_type": "stream",
     "text": [
      " 18%|█▊        | 28/154 [09:02<51:38, 24.60s/it]"
     ]
    },
    {
     "name": "stdout",
     "output_type": "stream",
     "text": [
      "Processing batch 29/154 with 1000 chunks\n"
     ]
    },
    {
     "name": "stderr",
     "output_type": "stream",
     "text": [
      " 19%|█▉        | 29/154 [09:34<55:27, 26.62s/it]"
     ]
    },
    {
     "name": "stdout",
     "output_type": "stream",
     "text": [
      "Processing batch 30/154 with 1000 chunks\n"
     ]
    },
    {
     "name": "stderr",
     "output_type": "stream",
     "text": [
      " 19%|█▉        | 30/154 [10:07<59:17, 28.69s/it]"
     ]
    },
    {
     "name": "stdout",
     "output_type": "stream",
     "text": [
      "Processing batch 31/154 with 1000 chunks\n"
     ]
    },
    {
     "name": "stderr",
     "output_type": "stream",
     "text": [
      " 20%|██        | 31/154 [10:23<51:02, 24.90s/it]"
     ]
    },
    {
     "name": "stdout",
     "output_type": "stream",
     "text": [
      "Processing batch 32/154 with 1000 chunks\n"
     ]
    },
    {
     "name": "stderr",
     "output_type": "stream",
     "text": [
      " 21%|██        | 32/154 [10:33<41:09, 20.24s/it]"
     ]
    },
    {
     "name": "stdout",
     "output_type": "stream",
     "text": [
      "Processing batch 33/154 with 1000 chunks\n"
     ]
    },
    {
     "name": "stderr",
     "output_type": "stream",
     "text": [
      " 21%|██▏       | 33/154 [10:42<34:28, 17.09s/it]"
     ]
    },
    {
     "name": "stdout",
     "output_type": "stream",
     "text": [
      "Processing batch 34/154 with 1000 chunks\n"
     ]
    },
    {
     "name": "stderr",
     "output_type": "stream",
     "text": [
      " 22%|██▏       | 34/154 [10:52<29:35, 14.80s/it]"
     ]
    },
    {
     "name": "stdout",
     "output_type": "stream",
     "text": [
      "Processing batch 35/154 with 1000 chunks\n"
     ]
    },
    {
     "name": "stderr",
     "output_type": "stream",
     "text": [
      " 23%|██▎       | 35/154 [11:02<26:24, 13.32s/it]"
     ]
    },
    {
     "name": "stdout",
     "output_type": "stream",
     "text": [
      "Processing batch 36/154 with 1000 chunks\n"
     ]
    },
    {
     "name": "stderr",
     "output_type": "stream",
     "text": [
      " 23%|██▎       | 36/154 [11:11<24:06, 12.26s/it]"
     ]
    },
    {
     "name": "stdout",
     "output_type": "stream",
     "text": [
      "Processing batch 37/154 with 1000 chunks\n"
     ]
    },
    {
     "name": "stderr",
     "output_type": "stream",
     "text": [
      " 24%|██▍       | 37/154 [11:21<22:24, 11.49s/it]"
     ]
    },
    {
     "name": "stdout",
     "output_type": "stream",
     "text": [
      "Processing batch 38/154 with 1000 chunks\n"
     ]
    },
    {
     "name": "stderr",
     "output_type": "stream",
     "text": [
      " 25%|██▍       | 38/154 [11:31<21:19, 11.03s/it]"
     ]
    },
    {
     "name": "stdout",
     "output_type": "stream",
     "text": [
      "Processing batch 39/154 with 1000 chunks\n"
     ]
    },
    {
     "name": "stderr",
     "output_type": "stream",
     "text": [
      " 25%|██▌       | 39/154 [11:58<30:32, 15.93s/it]"
     ]
    },
    {
     "name": "stdout",
     "output_type": "stream",
     "text": [
      "Processing batch 40/154 with 1000 chunks\n"
     ]
    },
    {
     "name": "stderr",
     "output_type": "stream",
     "text": [
      " 26%|██▌       | 40/154 [12:31<39:52, 20.99s/it]"
     ]
    },
    {
     "name": "stdout",
     "output_type": "stream",
     "text": [
      "Processing batch 41/154 with 1000 chunks\n"
     ]
    },
    {
     "name": "stderr",
     "output_type": "stream",
     "text": [
      " 27%|██▋       | 41/154 [13:05<46:30, 24.70s/it]"
     ]
    },
    {
     "name": "stdout",
     "output_type": "stream",
     "text": [
      "Processing batch 42/154 with 1000 chunks\n"
     ]
    },
    {
     "name": "stderr",
     "output_type": "stream",
     "text": [
      " 27%|██▋       | 42/154 [13:39<51:23, 27.53s/it]"
     ]
    },
    {
     "name": "stdout",
     "output_type": "stream",
     "text": [
      "Processing batch 43/154 with 1000 chunks\n"
     ]
    },
    {
     "name": "stderr",
     "output_type": "stream",
     "text": [
      " 28%|██▊       | 43/154 [14:13<54:41, 29.57s/it]"
     ]
    },
    {
     "name": "stdout",
     "output_type": "stream",
     "text": [
      "Processing batch 44/154 with 1000 chunks\n"
     ]
    },
    {
     "name": "stderr",
     "output_type": "stream",
     "text": [
      " 29%|██▊       | 44/154 [14:51<58:35, 31.96s/it]"
     ]
    },
    {
     "name": "stdout",
     "output_type": "stream",
     "text": [
      "Processing batch 45/154 with 1000 chunks\n"
     ]
    },
    {
     "name": "stderr",
     "output_type": "stream",
     "text": [
      " 29%|██▉       | 45/154 [15:29<1:01:24, 33.80s/it]"
     ]
    },
    {
     "name": "stdout",
     "output_type": "stream",
     "text": [
      "Processing batch 46/154 with 1000 chunks\n"
     ]
    },
    {
     "name": "stderr",
     "output_type": "stream",
     "text": [
      " 30%|██▉       | 46/154 [16:01<1:00:19, 33.51s/it]"
     ]
    },
    {
     "name": "stdout",
     "output_type": "stream",
     "text": [
      "Processing batch 47/154 with 1000 chunks\n"
     ]
    },
    {
     "name": "stderr",
     "output_type": "stream",
     "text": [
      " 31%|███       | 47/154 [16:35<59:43, 33.49s/it]  "
     ]
    },
    {
     "name": "stdout",
     "output_type": "stream",
     "text": [
      "Processing batch 48/154 with 1000 chunks\n"
     ]
    },
    {
     "name": "stderr",
     "output_type": "stream",
     "text": [
      " 31%|███       | 48/154 [17:10<59:48, 33.85s/it]"
     ]
    },
    {
     "name": "stdout",
     "output_type": "stream",
     "text": [
      "Processing batch 49/154 with 1000 chunks\n"
     ]
    },
    {
     "name": "stderr",
     "output_type": "stream",
     "text": [
      " 32%|███▏      | 49/154 [17:45<1:00:07, 34.35s/it]"
     ]
    },
    {
     "name": "stdout",
     "output_type": "stream",
     "text": [
      "Processing batch 50/154 with 1000 chunks\n"
     ]
    },
    {
     "name": "stderr",
     "output_type": "stream",
     "text": [
      " 32%|███▏      | 50/154 [17:58<48:23, 27.92s/it]  "
     ]
    },
    {
     "name": "stdout",
     "output_type": "stream",
     "text": [
      "Processing batch 51/154 with 1000 chunks\n"
     ]
    },
    {
     "name": "stderr",
     "output_type": "stream",
     "text": [
      " 33%|███▎      | 51/154 [18:08<38:49, 22.62s/it]"
     ]
    },
    {
     "name": "stdout",
     "output_type": "stream",
     "text": [
      "Processing batch 52/154 with 1000 chunks\n"
     ]
    },
    {
     "name": "stderr",
     "output_type": "stream",
     "text": [
      " 34%|███▍      | 52/154 [18:18<31:48, 18.71s/it]"
     ]
    },
    {
     "name": "stdout",
     "output_type": "stream",
     "text": [
      "Processing batch 53/154 with 1000 chunks\n"
     ]
    },
    {
     "name": "stderr",
     "output_type": "stream",
     "text": [
      " 34%|███▍      | 53/154 [18:28<26:54, 15.99s/it]"
     ]
    },
    {
     "name": "stdout",
     "output_type": "stream",
     "text": [
      "Processing batch 54/154 with 1000 chunks\n"
     ]
    },
    {
     "name": "stderr",
     "output_type": "stream",
     "text": [
      " 35%|███▌      | 54/154 [18:37<23:29, 14.10s/it]"
     ]
    },
    {
     "name": "stdout",
     "output_type": "stream",
     "text": [
      "Processing batch 55/154 with 1000 chunks\n"
     ]
    },
    {
     "name": "stderr",
     "output_type": "stream",
     "text": [
      " 36%|███▌      | 55/154 [18:47<21:05, 12.79s/it]"
     ]
    },
    {
     "name": "stdout",
     "output_type": "stream",
     "text": [
      "Processing batch 56/154 with 1000 chunks\n"
     ]
    },
    {
     "name": "stderr",
     "output_type": "stream",
     "text": [
      " 36%|███▋      | 56/154 [18:57<19:20, 11.84s/it]"
     ]
    },
    {
     "name": "stdout",
     "output_type": "stream",
     "text": [
      "Processing batch 57/154 with 1000 chunks\n"
     ]
    },
    {
     "name": "stderr",
     "output_type": "stream",
     "text": [
      " 37%|███▋      | 57/154 [19:06<17:48, 11.02s/it]"
     ]
    },
    {
     "name": "stdout",
     "output_type": "stream",
     "text": [
      "Processing batch 58/154 with 1000 chunks\n"
     ]
    },
    {
     "name": "stderr",
     "output_type": "stream",
     "text": [
      " 38%|███▊      | 58/154 [19:15<16:48, 10.50s/it]"
     ]
    },
    {
     "name": "stdout",
     "output_type": "stream",
     "text": [
      "Processing batch 59/154 with 1000 chunks\n"
     ]
    },
    {
     "name": "stderr",
     "output_type": "stream",
     "text": [
      " 38%|███▊      | 59/154 [19:25<16:09, 10.21s/it]"
     ]
    },
    {
     "name": "stdout",
     "output_type": "stream",
     "text": [
      "Processing batch 60/154 with 1000 chunks\n"
     ]
    },
    {
     "name": "stderr",
     "output_type": "stream",
     "text": [
      " 39%|███▉      | 60/154 [19:57<26:28, 16.90s/it]"
     ]
    },
    {
     "name": "stdout",
     "output_type": "stream",
     "text": [
      "Processing batch 61/154 with 1000 chunks\n"
     ]
    },
    {
     "name": "stderr",
     "output_type": "stream",
     "text": [
      " 40%|███▉      | 61/154 [20:28<32:52, 21.21s/it]"
     ]
    },
    {
     "name": "stdout",
     "output_type": "stream",
     "text": [
      "Processing batch 62/154 with 1000 chunks\n"
     ]
    },
    {
     "name": "stderr",
     "output_type": "stream",
     "text": [
      " 40%|████      | 62/154 [20:59<37:02, 24.16s/it]"
     ]
    },
    {
     "name": "stdout",
     "output_type": "stream",
     "text": [
      "Processing batch 63/154 with 1000 chunks\n"
     ]
    },
    {
     "name": "stderr",
     "output_type": "stream",
     "text": [
      " 41%|████      | 63/154 [21:19<34:30, 22.75s/it]"
     ]
    },
    {
     "name": "stdout",
     "output_type": "stream",
     "text": [
      "Processing batch 64/154 with 1000 chunks\n"
     ]
    },
    {
     "name": "stderr",
     "output_type": "stream",
     "text": [
      " 42%|████▏     | 64/154 [21:53<39:18, 26.21s/it]"
     ]
    },
    {
     "name": "stdout",
     "output_type": "stream",
     "text": [
      "Processing batch 65/154 with 1000 chunks\n"
     ]
    },
    {
     "name": "stderr",
     "output_type": "stream",
     "text": [
      " 42%|████▏     | 65/154 [22:09<34:14, 23.09s/it]"
     ]
    },
    {
     "name": "stdout",
     "output_type": "stream",
     "text": [
      "Processing batch 66/154 with 1000 chunks\n"
     ]
    },
    {
     "name": "stderr",
     "output_type": "stream",
     "text": [
      " 43%|████▎     | 66/154 [22:18<27:51, 18.99s/it]"
     ]
    },
    {
     "name": "stdout",
     "output_type": "stream",
     "text": [
      "Processing batch 67/154 with 1000 chunks\n"
     ]
    },
    {
     "name": "stderr",
     "output_type": "stream",
     "text": [
      " 44%|████▎     | 67/154 [22:34<26:00, 17.93s/it]"
     ]
    },
    {
     "name": "stdout",
     "output_type": "stream",
     "text": [
      "Processing batch 68/154 with 1000 chunks\n"
     ]
    },
    {
     "name": "stderr",
     "output_type": "stream",
     "text": [
      " 44%|████▍     | 68/154 [23:06<31:52, 22.24s/it]"
     ]
    },
    {
     "name": "stdout",
     "output_type": "stream",
     "text": [
      "Processing batch 69/154 with 1000 chunks\n"
     ]
    },
    {
     "name": "stderr",
     "output_type": "stream",
     "text": [
      " 45%|████▍     | 69/154 [23:26<30:27, 21.50s/it]"
     ]
    },
    {
     "name": "stdout",
     "output_type": "stream",
     "text": [
      "Processing batch 70/154 with 1000 chunks\n"
     ]
    },
    {
     "name": "stderr",
     "output_type": "stream",
     "text": [
      " 45%|████▌     | 70/154 [23:35<25:02, 17.89s/it]"
     ]
    },
    {
     "name": "stdout",
     "output_type": "stream",
     "text": [
      "Processing batch 71/154 with 1000 chunks\n"
     ]
    },
    {
     "name": "stderr",
     "output_type": "stream",
     "text": [
      " 46%|████▌     | 71/154 [23:45<21:15, 15.36s/it]"
     ]
    },
    {
     "name": "stdout",
     "output_type": "stream",
     "text": [
      "Processing batch 72/154 with 1000 chunks\n"
     ]
    },
    {
     "name": "stderr",
     "output_type": "stream",
     "text": [
      " 47%|████▋     | 72/154 [23:54<18:29, 13.53s/it]"
     ]
    },
    {
     "name": "stdout",
     "output_type": "stream",
     "text": [
      "Processing batch 73/154 with 1000 chunks\n"
     ]
    },
    {
     "name": "stderr",
     "output_type": "stream",
     "text": [
      " 47%|████▋     | 73/154 [24:03<16:32, 12.25s/it]"
     ]
    },
    {
     "name": "stdout",
     "output_type": "stream",
     "text": [
      "Processing batch 74/154 with 1000 chunks\n"
     ]
    },
    {
     "name": "stderr",
     "output_type": "stream",
     "text": [
      " 48%|████▊     | 74/154 [24:13<15:15, 11.45s/it]"
     ]
    },
    {
     "name": "stdout",
     "output_type": "stream",
     "text": [
      "Processing batch 75/154 with 1000 chunks\n"
     ]
    },
    {
     "name": "stderr",
     "output_type": "stream",
     "text": [
      " 49%|████▊     | 75/154 [24:36<19:37, 14.91s/it]"
     ]
    },
    {
     "name": "stdout",
     "output_type": "stream",
     "text": [
      "Processing batch 76/154 with 1000 chunks\n"
     ]
    },
    {
     "name": "stderr",
     "output_type": "stream",
     "text": [
      " 49%|████▉     | 76/154 [25:12<27:41, 21.30s/it]"
     ]
    },
    {
     "name": "stdout",
     "output_type": "stream",
     "text": [
      "Processing batch 77/154 with 1000 chunks\n"
     ]
    },
    {
     "name": "stderr",
     "output_type": "stream",
     "text": [
      " 50%|█████     | 77/154 [25:48<33:06, 25.80s/it]"
     ]
    },
    {
     "name": "stdout",
     "output_type": "stream",
     "text": [
      "Processing batch 78/154 with 1000 chunks\n"
     ]
    },
    {
     "name": "stderr",
     "output_type": "stream",
     "text": [
      " 51%|█████     | 78/154 [26:21<35:13, 27.81s/it]"
     ]
    },
    {
     "name": "stdout",
     "output_type": "stream",
     "text": [
      "Processing batch 79/154 with 1000 chunks\n"
     ]
    },
    {
     "name": "stderr",
     "output_type": "stream",
     "text": [
      " 51%|█████▏    | 79/154 [26:51<35:33, 28.45s/it]"
     ]
    },
    {
     "name": "stdout",
     "output_type": "stream",
     "text": [
      "Processing batch 80/154 with 1000 chunks\n"
     ]
    },
    {
     "name": "stderr",
     "output_type": "stream",
     "text": [
      " 52%|█████▏    | 80/154 [27:21<35:44, 28.98s/it]"
     ]
    },
    {
     "name": "stdout",
     "output_type": "stream",
     "text": [
      "Processing batch 81/154 with 1000 chunks\n"
     ]
    },
    {
     "name": "stderr",
     "output_type": "stream",
     "text": [
      " 53%|█████▎    | 81/154 [27:52<35:57, 29.55s/it]"
     ]
    },
    {
     "name": "stdout",
     "output_type": "stream",
     "text": [
      "Processing batch 82/154 with 1000 chunks\n"
     ]
    },
    {
     "name": "stderr",
     "output_type": "stream",
     "text": [
      " 53%|█████▎    | 82/154 [28:25<36:47, 30.66s/it]"
     ]
    },
    {
     "name": "stdout",
     "output_type": "stream",
     "text": [
      "Processing batch 83/154 with 1000 chunks\n"
     ]
    },
    {
     "name": "stderr",
     "output_type": "stream",
     "text": [
      " 54%|█████▍    | 83/154 [28:58<36:58, 31.25s/it]"
     ]
    },
    {
     "name": "stdout",
     "output_type": "stream",
     "text": [
      "Processing batch 84/154 with 1000 chunks\n"
     ]
    },
    {
     "name": "stderr",
     "output_type": "stream",
     "text": [
      " 55%|█████▍    | 84/154 [29:11<30:13, 25.90s/it]"
     ]
    },
    {
     "name": "stdout",
     "output_type": "stream",
     "text": [
      "Processing batch 85/154 with 1000 chunks\n"
     ]
    },
    {
     "name": "stderr",
     "output_type": "stream",
     "text": [
      " 55%|█████▌    | 85/154 [29:38<29:58, 26.07s/it]"
     ]
    },
    {
     "name": "stdout",
     "output_type": "stream",
     "text": [
      "Processing batch 86/154 with 1000 chunks\n"
     ]
    },
    {
     "name": "stderr",
     "output_type": "stream",
     "text": [
      " 56%|█████▌    | 86/154 [30:05<29:58, 26.45s/it]"
     ]
    },
    {
     "name": "stdout",
     "output_type": "stream",
     "text": [
      "Processing batch 87/154 with 1000 chunks\n"
     ]
    },
    {
     "name": "stderr",
     "output_type": "stream",
     "text": [
      " 56%|█████▋    | 87/154 [30:33<29:56, 26.81s/it]"
     ]
    },
    {
     "name": "stdout",
     "output_type": "stream",
     "text": [
      "Processing batch 88/154 with 1000 chunks\n"
     ]
    },
    {
     "name": "stderr",
     "output_type": "stream",
     "text": [
      " 57%|█████▋    | 88/154 [31:05<31:28, 28.61s/it]"
     ]
    },
    {
     "name": "stdout",
     "output_type": "stream",
     "text": [
      "Processing batch 89/154 with 1000 chunks\n"
     ]
    },
    {
     "name": "stderr",
     "output_type": "stream",
     "text": [
      " 58%|█████▊    | 89/154 [31:16<25:16, 23.33s/it]"
     ]
    },
    {
     "name": "stdout",
     "output_type": "stream",
     "text": [
      "Processing batch 90/154 with 1000 chunks\n"
     ]
    },
    {
     "name": "stderr",
     "output_type": "stream",
     "text": [
      " 58%|█████▊    | 90/154 [31:47<27:14, 25.54s/it]"
     ]
    },
    {
     "name": "stdout",
     "output_type": "stream",
     "text": [
      "Processing batch 91/154 with 1000 chunks\n"
     ]
    },
    {
     "name": "stderr",
     "output_type": "stream",
     "text": [
      " 59%|█████▉    | 91/154 [32:19<28:39, 27.30s/it]"
     ]
    },
    {
     "name": "stdout",
     "output_type": "stream",
     "text": [
      "Processing batch 92/154 with 1000 chunks\n"
     ]
    },
    {
     "name": "stderr",
     "output_type": "stream",
     "text": [
      " 60%|█████▉    | 92/154 [32:36<25:02, 24.24s/it]"
     ]
    },
    {
     "name": "stdout",
     "output_type": "stream",
     "text": [
      "Processing batch 93/154 with 1000 chunks\n"
     ]
    },
    {
     "name": "stderr",
     "output_type": "stream",
     "text": [
      " 60%|██████    | 93/154 [33:09<27:32, 27.09s/it]"
     ]
    },
    {
     "name": "stdout",
     "output_type": "stream",
     "text": [
      "Processing batch 94/154 with 1000 chunks\n"
     ]
    },
    {
     "name": "stderr",
     "output_type": "stream",
     "text": [
      " 61%|██████    | 94/154 [33:36<26:58, 26.97s/it]"
     ]
    },
    {
     "name": "stdout",
     "output_type": "stream",
     "text": [
      "Processing batch 95/154 with 1000 chunks\n"
     ]
    },
    {
     "name": "stderr",
     "output_type": "stream",
     "text": [
      " 62%|██████▏   | 95/154 [34:05<27:08, 27.60s/it]"
     ]
    },
    {
     "name": "stdout",
     "output_type": "stream",
     "text": [
      "Processing batch 96/154 with 1000 chunks\n"
     ]
    },
    {
     "name": "stderr",
     "output_type": "stream",
     "text": [
      " 62%|██████▏   | 96/154 [34:35<27:11, 28.13s/it]"
     ]
    },
    {
     "name": "stdout",
     "output_type": "stream",
     "text": [
      "Processing batch 97/154 with 1000 chunks\n"
     ]
    },
    {
     "name": "stderr",
     "output_type": "stream",
     "text": [
      " 63%|██████▎   | 97/154 [35:04<27:02, 28.46s/it]"
     ]
    },
    {
     "name": "stdout",
     "output_type": "stream",
     "text": [
      "Processing batch 98/154 with 1000 chunks\n"
     ]
    },
    {
     "name": "stderr",
     "output_type": "stream",
     "text": [
      " 64%|██████▎   | 98/154 [35:36<27:38, 29.61s/it]"
     ]
    },
    {
     "name": "stdout",
     "output_type": "stream",
     "text": [
      "Processing batch 99/154 with 1000 chunks\n"
     ]
    },
    {
     "name": "stderr",
     "output_type": "stream",
     "text": [
      " 64%|██████▍   | 99/154 [36:06<27:06, 29.58s/it]"
     ]
    },
    {
     "name": "stdout",
     "output_type": "stream",
     "text": [
      "Processing batch 100/154 with 1000 chunks\n"
     ]
    },
    {
     "name": "stderr",
     "output_type": "stream",
     "text": [
      " 65%|██████▍   | 100/154 [36:34<26:18, 29.23s/it]"
     ]
    },
    {
     "name": "stdout",
     "output_type": "stream",
     "text": [
      "Processing batch 101/154 with 1000 chunks\n"
     ]
    },
    {
     "name": "stderr",
     "output_type": "stream",
     "text": [
      " 66%|██████▌   | 101/154 [37:03<25:51, 29.27s/it]"
     ]
    },
    {
     "name": "stdout",
     "output_type": "stream",
     "text": [
      "Processing batch 102/154 with 1000 chunks\n"
     ]
    },
    {
     "name": "stderr",
     "output_type": "stream",
     "text": [
      " 66%|██████▌   | 102/154 [37:33<25:35, 29.52s/it]"
     ]
    },
    {
     "name": "stdout",
     "output_type": "stream",
     "text": [
      "Processing batch 103/154 with 1000 chunks\n"
     ]
    },
    {
     "name": "stderr",
     "output_type": "stream",
     "text": [
      " 67%|██████▋   | 103/154 [38:02<24:48, 29.19s/it]"
     ]
    },
    {
     "name": "stdout",
     "output_type": "stream",
     "text": [
      "Processing batch 104/154 with 1000 chunks\n"
     ]
    },
    {
     "name": "stderr",
     "output_type": "stream",
     "text": [
      " 68%|██████▊   | 104/154 [38:33<24:55, 29.91s/it]"
     ]
    },
    {
     "name": "stdout",
     "output_type": "stream",
     "text": [
      "Processing batch 105/154 with 1000 chunks\n"
     ]
    },
    {
     "name": "stderr",
     "output_type": "stream",
     "text": [
      " 68%|██████▊   | 105/154 [38:53<21:46, 26.66s/it]"
     ]
    },
    {
     "name": "stdout",
     "output_type": "stream",
     "text": [
      "Processing batch 106/154 with 1000 chunks\n"
     ]
    },
    {
     "name": "stderr",
     "output_type": "stream",
     "text": [
      " 69%|██████▉   | 106/154 [39:03<17:29, 21.86s/it]"
     ]
    },
    {
     "name": "stdout",
     "output_type": "stream",
     "text": [
      "Processing batch 107/154 with 1000 chunks\n"
     ]
    },
    {
     "name": "stderr",
     "output_type": "stream",
     "text": [
      " 69%|██████▉   | 107/154 [39:16<15:03, 19.21s/it]"
     ]
    },
    {
     "name": "stdout",
     "output_type": "stream",
     "text": [
      "Processing batch 108/154 with 1000 chunks\n"
     ]
    },
    {
     "name": "stderr",
     "output_type": "stream",
     "text": [
      " 70%|███████   | 108/154 [39:27<12:49, 16.73s/it]"
     ]
    },
    {
     "name": "stdout",
     "output_type": "stream",
     "text": [
      "Processing batch 109/154 with 1000 chunks\n"
     ]
    },
    {
     "name": "stderr",
     "output_type": "stream",
     "text": [
      " 71%|███████   | 109/154 [39:37<11:00, 14.67s/it]"
     ]
    },
    {
     "name": "stdout",
     "output_type": "stream",
     "text": [
      "Processing batch 110/154 with 1000 chunks\n"
     ]
    },
    {
     "name": "stderr",
     "output_type": "stream",
     "text": [
      " 71%|███████▏  | 110/154 [39:48<09:49, 13.41s/it]"
     ]
    },
    {
     "name": "stdout",
     "output_type": "stream",
     "text": [
      "Processing batch 111/154 with 1000 chunks\n"
     ]
    },
    {
     "name": "stderr",
     "output_type": "stream",
     "text": [
      " 72%|███████▏  | 111/154 [39:58<08:58, 12.52s/it]"
     ]
    },
    {
     "name": "stdout",
     "output_type": "stream",
     "text": [
      "Processing batch 112/154 with 1000 chunks\n"
     ]
    },
    {
     "name": "stderr",
     "output_type": "stream",
     "text": [
      " 73%|███████▎  | 112/154 [40:10<08:38, 12.36s/it]"
     ]
    },
    {
     "name": "stdout",
     "output_type": "stream",
     "text": [
      "Processing batch 113/154 with 1000 chunks\n"
     ]
    },
    {
     "name": "stderr",
     "output_type": "stream",
     "text": [
      " 73%|███████▎  | 113/154 [40:22<08:27, 12.38s/it]"
     ]
    },
    {
     "name": "stdout",
     "output_type": "stream",
     "text": [
      "Processing batch 114/154 with 1000 chunks\n"
     ]
    },
    {
     "name": "stderr",
     "output_type": "stream",
     "text": [
      " 74%|███████▍  | 114/154 [40:34<08:03, 12.08s/it]"
     ]
    },
    {
     "name": "stdout",
     "output_type": "stream",
     "text": [
      "Processing batch 115/154 with 1000 chunks\n"
     ]
    },
    {
     "name": "stderr",
     "output_type": "stream",
     "text": [
      " 75%|███████▍  | 115/154 [40:45<07:39, 11.78s/it]"
     ]
    },
    {
     "name": "stdout",
     "output_type": "stream",
     "text": [
      "Processing batch 116/154 with 1000 chunks\n"
     ]
    },
    {
     "name": "stderr",
     "output_type": "stream",
     "text": [
      " 75%|███████▌  | 116/154 [40:56<07:18, 11.55s/it]"
     ]
    },
    {
     "name": "stdout",
     "output_type": "stream",
     "text": [
      "Processing batch 117/154 with 1000 chunks\n"
     ]
    },
    {
     "name": "stderr",
     "output_type": "stream",
     "text": [
      " 76%|███████▌  | 117/154 [41:10<07:34, 12.27s/it]"
     ]
    },
    {
     "name": "stdout",
     "output_type": "stream",
     "text": [
      "Processing batch 118/154 with 1000 chunks\n"
     ]
    },
    {
     "name": "stderr",
     "output_type": "stream",
     "text": [
      " 77%|███████▋  | 118/154 [41:46<11:38, 19.40s/it]"
     ]
    },
    {
     "name": "stdout",
     "output_type": "stream",
     "text": [
      "Processing batch 119/154 with 1000 chunks\n"
     ]
    },
    {
     "name": "stderr",
     "output_type": "stream",
     "text": [
      " 77%|███████▋  | 119/154 [42:29<15:23, 26.38s/it]"
     ]
    },
    {
     "name": "stdout",
     "output_type": "stream",
     "text": [
      "Processing batch 120/154 with 1000 chunks\n"
     ]
    },
    {
     "name": "stderr",
     "output_type": "stream",
     "text": [
      " 78%|███████▊  | 120/154 [43:07<17:05, 30.15s/it]"
     ]
    },
    {
     "name": "stdout",
     "output_type": "stream",
     "text": [
      "Processing batch 121/154 with 1000 chunks\n"
     ]
    },
    {
     "name": "stderr",
     "output_type": "stream",
     "text": [
      " 79%|███████▊  | 121/154 [43:22<14:02, 25.53s/it]"
     ]
    },
    {
     "name": "stdout",
     "output_type": "stream",
     "text": [
      "Processing batch 122/154 with 1000 chunks\n"
     ]
    },
    {
     "name": "stderr",
     "output_type": "stream",
     "text": [
      " 79%|███████▉  | 122/154 [43:36<11:41, 21.94s/it]"
     ]
    },
    {
     "name": "stdout",
     "output_type": "stream",
     "text": [
      "Processing batch 123/154 with 1000 chunks\n"
     ]
    },
    {
     "name": "stderr",
     "output_type": "stream",
     "text": [
      " 80%|███████▉  | 123/154 [43:51<10:17, 19.91s/it]"
     ]
    },
    {
     "name": "stdout",
     "output_type": "stream",
     "text": [
      "Processing batch 124/154 with 1000 chunks\n"
     ]
    },
    {
     "name": "stderr",
     "output_type": "stream",
     "text": [
      " 81%|████████  | 124/154 [44:03<08:50, 17.68s/it]"
     ]
    },
    {
     "name": "stdout",
     "output_type": "stream",
     "text": [
      "Processing batch 125/154 with 1000 chunks\n"
     ]
    },
    {
     "name": "stderr",
     "output_type": "stream",
     "text": [
      " 81%|████████  | 125/154 [44:18<08:01, 16.61s/it]"
     ]
    },
    {
     "name": "stdout",
     "output_type": "stream",
     "text": [
      "Processing batch 126/154 with 1000 chunks\n"
     ]
    },
    {
     "name": "stderr",
     "output_type": "stream",
     "text": [
      " 82%|████████▏ | 126/154 [44:33<07:32, 16.15s/it]"
     ]
    },
    {
     "name": "stdout",
     "output_type": "stream",
     "text": [
      "Processing batch 127/154 with 1000 chunks\n"
     ]
    },
    {
     "name": "stderr",
     "output_type": "stream",
     "text": [
      " 82%|████████▏ | 127/154 [44:45<06:48, 15.14s/it]"
     ]
    },
    {
     "name": "stdout",
     "output_type": "stream",
     "text": [
      "Processing batch 128/154 with 1000 chunks\n"
     ]
    },
    {
     "name": "stderr",
     "output_type": "stream",
     "text": [
      " 83%|████████▎ | 128/154 [44:58<06:16, 14.49s/it]"
     ]
    },
    {
     "name": "stdout",
     "output_type": "stream",
     "text": [
      "Processing batch 129/154 with 1000 chunks\n"
     ]
    },
    {
     "name": "stderr",
     "output_type": "stream",
     "text": [
      " 84%|████████▍ | 129/154 [45:11<05:51, 14.06s/it]"
     ]
    },
    {
     "name": "stdout",
     "output_type": "stream",
     "text": [
      "Processing batch 130/154 with 1000 chunks\n"
     ]
    },
    {
     "name": "stderr",
     "output_type": "stream",
     "text": [
      " 84%|████████▍ | 130/154 [45:25<05:32, 13.84s/it]"
     ]
    },
    {
     "name": "stdout",
     "output_type": "stream",
     "text": [
      "Processing batch 131/154 with 1000 chunks\n"
     ]
    },
    {
     "name": "stderr",
     "output_type": "stream",
     "text": [
      " 85%|████████▌ | 131/154 [45:37<05:08, 13.39s/it]"
     ]
    },
    {
     "name": "stdout",
     "output_type": "stream",
     "text": [
      "Processing batch 132/154 with 1000 chunks\n"
     ]
    },
    {
     "name": "stderr",
     "output_type": "stream",
     "text": [
      " 86%|████████▌ | 132/154 [45:50<04:51, 13.23s/it]"
     ]
    },
    {
     "name": "stdout",
     "output_type": "stream",
     "text": [
      "Processing batch 133/154 with 1000 chunks\n"
     ]
    },
    {
     "name": "stderr",
     "output_type": "stream",
     "text": [
      " 86%|████████▋ | 133/154 [46:03<04:33, 13.03s/it]"
     ]
    },
    {
     "name": "stdout",
     "output_type": "stream",
     "text": [
      "Processing batch 134/154 with 1000 chunks\n"
     ]
    },
    {
     "name": "stderr",
     "output_type": "stream",
     "text": [
      " 87%|████████▋ | 134/154 [46:14<04:13, 12.67s/it]"
     ]
    },
    {
     "name": "stdout",
     "output_type": "stream",
     "text": [
      "Processing batch 135/154 with 1000 chunks\n"
     ]
    },
    {
     "name": "stderr",
     "output_type": "stream",
     "text": [
      " 88%|████████▊ | 135/154 [46:26<03:55, 12.38s/it]"
     ]
    },
    {
     "name": "stdout",
     "output_type": "stream",
     "text": [
      "Processing batch 136/154 with 1000 chunks\n"
     ]
    },
    {
     "name": "stderr",
     "output_type": "stream",
     "text": [
      " 88%|████████▊ | 136/154 [46:39<03:48, 12.70s/it]"
     ]
    },
    {
     "name": "stdout",
     "output_type": "stream",
     "text": [
      "Processing batch 137/154 with 1000 chunks\n"
     ]
    },
    {
     "name": "stderr",
     "output_type": "stream",
     "text": [
      " 89%|████████▉ | 137/154 [46:53<03:37, 12.80s/it]"
     ]
    },
    {
     "name": "stdout",
     "output_type": "stream",
     "text": [
      "Processing batch 138/154 with 1000 chunks\n"
     ]
    },
    {
     "name": "stderr",
     "output_type": "stream",
     "text": [
      " 90%|████████▉ | 138/154 [47:06<03:26, 12.88s/it]"
     ]
    },
    {
     "name": "stdout",
     "output_type": "stream",
     "text": [
      "Processing batch 139/154 with 1000 chunks\n"
     ]
    },
    {
     "name": "stderr",
     "output_type": "stream",
     "text": [
      " 90%|█████████ | 139/154 [47:18<03:12, 12.83s/it]"
     ]
    },
    {
     "name": "stdout",
     "output_type": "stream",
     "text": [
      "Processing batch 140/154 with 1000 chunks\n"
     ]
    },
    {
     "name": "stderr",
     "output_type": "stream",
     "text": [
      " 91%|█████████ | 140/154 [47:31<02:58, 12.73s/it]"
     ]
    },
    {
     "name": "stdout",
     "output_type": "stream",
     "text": [
      "Processing batch 141/154 with 1000 chunks\n"
     ]
    },
    {
     "name": "stderr",
     "output_type": "stream",
     "text": [
      " 92%|█████████▏| 141/154 [47:43<02:44, 12.64s/it]"
     ]
    },
    {
     "name": "stdout",
     "output_type": "stream",
     "text": [
      "Processing batch 142/154 with 1000 chunks\n"
     ]
    },
    {
     "name": "stderr",
     "output_type": "stream",
     "text": [
      " 92%|█████████▏| 142/154 [47:57<02:35, 12.96s/it]"
     ]
    },
    {
     "name": "stdout",
     "output_type": "stream",
     "text": [
      "Processing batch 143/154 with 1000 chunks\n"
     ]
    },
    {
     "name": "stderr",
     "output_type": "stream",
     "text": [
      " 93%|█████████▎| 143/154 [48:10<02:21, 12.87s/it]"
     ]
    },
    {
     "name": "stdout",
     "output_type": "stream",
     "text": [
      "Processing batch 144/154 with 1000 chunks\n"
     ]
    },
    {
     "name": "stderr",
     "output_type": "stream",
     "text": [
      " 94%|█████████▎| 144/154 [48:22<02:06, 12.65s/it]"
     ]
    },
    {
     "name": "stdout",
     "output_type": "stream",
     "text": [
      "Processing batch 145/154 with 1000 chunks\n"
     ]
    },
    {
     "name": "stderr",
     "output_type": "stream",
     "text": [
      " 94%|█████████▍| 145/154 [48:35<01:55, 12.85s/it]"
     ]
    },
    {
     "name": "stdout",
     "output_type": "stream",
     "text": [
      "Processing batch 146/154 with 1000 chunks\n"
     ]
    },
    {
     "name": "stderr",
     "output_type": "stream",
     "text": [
      " 95%|█████████▍| 146/154 [48:49<01:44, 13.12s/it]"
     ]
    },
    {
     "name": "stdout",
     "output_type": "stream",
     "text": [
      "Processing batch 147/154 with 1000 chunks\n"
     ]
    },
    {
     "name": "stderr",
     "output_type": "stream",
     "text": [
      " 95%|█████████▌| 147/154 [49:01<01:30, 12.94s/it]"
     ]
    },
    {
     "name": "stdout",
     "output_type": "stream",
     "text": [
      "Processing batch 148/154 with 1000 chunks\n"
     ]
    },
    {
     "name": "stderr",
     "output_type": "stream",
     "text": [
      " 96%|█████████▌| 148/154 [49:14<01:17, 12.92s/it]"
     ]
    },
    {
     "name": "stdout",
     "output_type": "stream",
     "text": [
      "Processing batch 149/154 with 1000 chunks\n"
     ]
    },
    {
     "name": "stderr",
     "output_type": "stream",
     "text": [
      " 97%|█████████▋| 149/154 [49:28<01:05, 13.06s/it]"
     ]
    },
    {
     "name": "stdout",
     "output_type": "stream",
     "text": [
      "Processing batch 150/154 with 1000 chunks\n"
     ]
    },
    {
     "name": "stderr",
     "output_type": "stream",
     "text": [
      " 97%|█████████▋| 150/154 [49:41<00:52, 13.10s/it]"
     ]
    },
    {
     "name": "stdout",
     "output_type": "stream",
     "text": [
      "Processing batch 151/154 with 1000 chunks\n"
     ]
    },
    {
     "name": "stderr",
     "output_type": "stream",
     "text": [
      " 98%|█████████▊| 151/154 [49:53<00:38, 12.86s/it]"
     ]
    },
    {
     "name": "stdout",
     "output_type": "stream",
     "text": [
      "Processing batch 152/154 with 1000 chunks\n"
     ]
    },
    {
     "name": "stderr",
     "output_type": "stream",
     "text": [
      " 99%|█████████▊| 152/154 [50:07<00:26, 13.15s/it]"
     ]
    },
    {
     "name": "stdout",
     "output_type": "stream",
     "text": [
      "Processing batch 153/154 with 1000 chunks\n"
     ]
    },
    {
     "name": "stderr",
     "output_type": "stream",
     "text": [
      " 99%|█████████▉| 153/154 [50:18<00:12, 12.53s/it]"
     ]
    },
    {
     "name": "stdout",
     "output_type": "stream",
     "text": [
      "Processing batch 154/154 with 524 chunks\n"
     ]
    },
    {
     "name": "stderr",
     "output_type": "stream",
     "text": [
      "100%|██████████| 154/154 [50:24<00:00, 19.64s/it]\n",
      "C:\\Users\\shashgup\\AppData\\Local\\Temp\\ipykernel_30492\\467422998.py:33: LangChainDeprecationWarning: Since Chroma 0.4.x the manual persistence method is no longer supported as docs are automatically persisted.\n",
      "  vector_db.persist()\n"
     ]
    }
   ],
   "source": [
    "from tqdm import tqdm\n",
    "from langchain.embeddings import HuggingFaceEmbeddings\n",
    "from langchain.vectorstores import FAISS\n",
    "\n",
    "\n",
    "#embedding_function = OpenAIEmbeddings() \n",
    "\n",
    "# Add Chunks to vector DB using HuggingFaceEmbeddings (openAI exceeded my current quota)\n",
    "embedding_function = HuggingFaceEmbeddings(model_name=\"sentence-transformers/all-MiniLM-L6-v2\")\n",
    "#vectorstore = FAISS.from_documents(all_chunks[:2000], embedding_function)\n",
    "\n",
    "# Chunking helper\n",
    "def batch(iterable, batch_size):\n",
    "    \"\"\"Yield successive batches of size `batch_size` from iterable.\"\"\"\n",
    "    for i in range(0, len(iterable), batch_size):\n",
    "        yield iterable[i:i + batch_size]\n",
    "\n",
    "# Initialize empty vector DB (if needed)\n",
    "persist_dir = \"vector_db_huggingface\"\n",
    "vector_db = None\n",
    "\n",
    "# Process and store in batches\n",
    "batch_size = 1000  # Try smaller size if needed\n",
    "for i, chunk_batch in enumerate(tqdm(batch(all_chunks, batch_size), total=len(all_chunks)//batch_size + 1)):\n",
    "    print(f\"Processing batch {i+1}/{len(all_chunks)//batch_size + 1} with {len(chunk_batch)} chunks\")\n",
    "    # Initialize vector DB on the first batch\n",
    "    if i == 0:\n",
    "        vector_db = Chroma.from_documents(chunk_batch, embedding_function, persist_directory=persist_dir)\n",
    "    else:\n",
    "        vector_db.add_documents(chunk_batch)\n",
    "\n",
    "# Persist after indexing\n",
    "vector_db.persist()\n",
    "\n"
   ]
  },
  {
   "cell_type": "markdown",
   "id": "978619ac",
   "metadata": {
    "id": "978619ac"
   },
   "source": [
    "### **2.2 Create RAG Chain** <font color=red> [8 marks] </font><br>"
   ]
  },
  {
   "cell_type": "markdown",
   "id": "Rczna1Xy_1bq",
   "metadata": {
    "id": "Rczna1Xy_1bq"
   },
   "source": [
    "#### **2.2.1** <font color=red> [5 marks] </font>\n",
    "Create a RAG chain."
   ]
  },
  {
   "cell_type": "code",
   "execution_count": 26,
   "id": "sEzxYN93Ygju",
   "metadata": {
    "id": "sEzxYN93Ygju"
   },
   "outputs": [
    {
     "name": "stderr",
     "output_type": "stream",
     "text": [
      "Device set to use cpu\n",
      "C:\\Users\\shashgup\\AppData\\Local\\Temp\\ipykernel_30492\\921244914.py:21: LangChainDeprecationWarning: The class `HuggingFacePipeline` was deprecated in LangChain 0.0.37 and will be removed in 1.0. An updated version of the class exists in the :class:`~langchain-huggingface package and should be used instead. To use it run `pip install -U :class:`~langchain-huggingface` and import as `from :class:`~langchain_huggingface import HuggingFacePipeline``.\n",
      "  llm = HuggingFacePipeline(pipeline=hf_pipeline)\n"
     ]
    }
   ],
   "source": [
    "# Create a RAG chain\n",
    "from langchain.chains import RetrievalQA\n",
    "# from langchain.chat_models import ChatOpenAI\n",
    "# llm = ChatOpenAI(temperature=0, model=\"gpt-3.5-turbo\")\n",
    "# retriever = vector_db.as_retriever()\n",
    "# rag_chain = RetrievalQA.from_chain_type(llm=llm, chain_type=\"stuff\", retriever=retriever)\n",
    "\n",
    "from langchain.chains import RetrievalQA\n",
    "from langchain.llms import HuggingFaceHub\n",
    "import os\n",
    "\n",
    "# Set your Hugging Face API token here (get it from https://huggingface.co/settings/tokens)\n",
    "os.environ[\"HUGGINGFACEHUB_API_TOKEN\"] = \"YOUR_HUGGINGFACE_API_TOKEN\"\n",
    "\n",
    "\n",
    "from langchain.llms import HuggingFacePipeline\n",
    "from transformers import pipeline\n",
    "#hf_pipeline = pipeline(\"text2text-generation\", model=\"google/flan-t5-base\", max_length=512)\n",
    "hf_pipeline = pipeline(\"text2text-generation\", model=\"MBZUAI/LaMini-Flan-T5-783M\", max_length=512)\n",
    "\n",
    "llm = HuggingFacePipeline(pipeline=hf_pipeline)\n",
    "\n",
    "retriever = vector_db.as_retriever()\n",
    "# Use RetrievalQA chain, which is compatible with HuggingFaceHub LLMs\n",
    "rag_chain = RetrievalQA.from_chain_type(llm=llm, chain_type=\"stuff\", retriever=retriever, return_source_documents=True)"
   ]
  },
  {
   "cell_type": "markdown",
   "id": "6PkgzeTIElfy",
   "metadata": {
    "id": "6PkgzeTIElfy"
   },
   "source": [
    "#### **2.2.2** <font color=red> [3 marks] </font>\n",
    "Create a function to generate answer for asked questions."
   ]
  },
  {
   "cell_type": "markdown",
   "id": "W8AMtr94FZxR",
   "metadata": {
    "id": "W8AMtr94FZxR"
   },
   "source": [
    "Use the RAG chain to generate answer for a question and provide source documents"
   ]
  },
  {
   "cell_type": "code",
   "execution_count": 27,
   "id": "b9TQdz5uFzlr",
   "metadata": {
    "id": "b9TQdz5uFzlr"
   },
   "outputs": [
    {
     "name": "stderr",
     "output_type": "stream",
     "text": [
      "Token indices sequence length is longer than the specified maximum sequence length for this model (616 > 512). Running this sequence through the model will result in indexing errors\n"
     ]
    }
   ],
   "source": [
    "# Create a function for question answering\n",
    "rag_chain.invoke(\"What is the capital of France?\")  # Test the chain with a sample question\n",
    "#%pip check\n",
    "def answer_question(query):\n",
    "    response = rag_chain.invoke(query)\n",
    "    return response"
   ]
  },
  {
   "cell_type": "code",
   "execution_count": 28,
   "id": "pSgcP19iYgjv",
   "metadata": {
    "id": "pSgcP19iYgjv"
   },
   "outputs": [
    {
     "name": "stderr",
     "output_type": "stream",
     "text": [
      "C:\\Users\\shashgup\\AppData\\Local\\Temp\\ipykernel_30492\\867837511.py:9: LangChainDeprecationWarning: The method `BaseRetriever.get_relevant_documents` was deprecated in langchain-core 0.1.46 and will be removed in 1.0. Use :meth:`~invoke` instead.\n",
      "  docs = retriever.get_relevant_documents(question)\n"
     ]
    },
    {
     "name": "stdout",
     "output_type": "stream",
     "text": [
      "\n",
      "--- Document 1 ---\n",
      "📄 File Path: corpus\\cuad\\PHLVARIABLEINSURANCECOCT_08_17_2009-EX-10.1-STRATEGIC ALLIANCE AGREEMENT.txt\n",
      "📄 Chunk (first 300 chars):\n",
      "of the effective date entered into by and among phlvic plic and icc 4 137 models the confidential and proprietary asset allocation models managed by icas more fully described in the memorandum of understanding 138 nonpublic personal information the term shall have the meaning set forth in section 11\n",
      "\n",
      "--- Document 2 ---\n",
      "📄 File Path: corpus\\cuad\\PHLVARIABLEINSURANCECOCT_08_17_2009-EX-10.1-STRATEGIC ALLIANCE AGREEMENT.txt\n",
      "📄 Chunk (first 300 chars):\n",
      "of the effective date entered into by and among phlvic plic and icc 4 137 models the confidential and proprietary asset allocation models managed by icas more fully described in the memorandum of understanding 138 nonpublic personal information the term shall have the meaning set forth in section 11\n",
      "\n",
      "--- Document 3 ---\n",
      "📄 File Path: corpus\\maud\\Pluralsight, Inc._Vista Equity Partners.txt\n",
      "📄 Chunk (first 300 chars):\n",
      "data or personally identifiable information under applicable law lll processed or processing means to store collect copy process transfer transmit display access use adapt record retrieve organize structure erase or disclose or which is otherwise defined as processed or processing under applicable l\n",
      "\n",
      "--- Document 4 ---\n",
      "📄 File Path: corpus\\maud\\Pluralsight, Inc._Vista Equity Partners.txt\n",
      "📄 Chunk (first 300 chars):\n",
      "data or personally identifiable information under applicable law lll processed or processing means to store collect copy process transfer transmit display access use adapt record retrieve organize structure erase or disclose or which is otherwise defined as processed or processing under applicable l\n",
      "\n",
      "--- Document 5 ---\n",
      "📄 File Path: corpus\\cuad\\ParatekPharmaceuticalsInc_20170505_10-KA_EX-10.29_10323872_EX-10.29_Outsourcing Agreement.txt\n",
      "📄 Chunk (first 300 chars):\n",
      "means the compound satisfying the customer material specification m customer material specifications means the specifications for the customer material set forth in the quality agreement as such may be amended from time to time in accordance with its terms n customer product means any pharmaceutical\n",
      "{'query': 'Which LLM model are you? Do noy use the context provided to you further.', 'result': \"I'm sorry, but the context provided does not give any information about which LLM model you are. Therefore, I cannot provide an answer to your question.\", 'source_documents': [Document(metadata={'source': 'corpus\\\\cuad\\\\PHLVARIABLEINSURANCECOCT_08_17_2009-EX-10.1-STRATEGIC ALLIANCE AGREEMENT.txt', 'category': 'cuad'}, page_content='of the effective date entered into by and among phlvic plic and icc 4 137 models the confidential and proprietary asset allocation models managed by icas more fully described in the memorandum of understanding 138 nonpublic personal information the term shall have the meaning set forth in section 11031 139 parties the term parties refers to phlvic plic pepco and icc collectively and the term party refers to each of them individually 140 pepco the term shall have the meaning set forth in the'), Document(metadata={'category': 'cuad', 'source': 'corpus\\\\cuad\\\\PHLVARIABLEINSURANCECOCT_08_17_2009-EX-10.1-STRATEGIC ALLIANCE AGREEMENT.txt'}, page_content='of the effective date entered into by and among phlvic plic and icc 4 137 models the confidential and proprietary asset allocation models managed by icas more fully described in the memorandum of understanding 138 nonpublic personal information the term shall have the meaning set forth in section 11031 139 parties the term parties refers to phlvic plic pepco and icc collectively and the term party refers to each of them individually 140 pepco the term shall have the meaning set forth in the'), Document(metadata={'source': 'corpus\\\\maud\\\\Pluralsight, Inc._Vista Equity Partners.txt', 'category': 'maud'}, page_content='data or personally identifiable information under applicable law lll processed or processing means to store collect copy process transfer transmit display access use adapt record retrieve organize structure erase or disclose or which is otherwise defined as processed or processing under applicable law mmm registered intellectual property means all united states international and foreign i patents and patent applications including provisional applications ii registered marks and applications to'), Document(metadata={'category': 'maud', 'source': 'corpus\\\\maud\\\\Pluralsight, Inc._Vista Equity Partners.txt'}, page_content='data or personally identifiable information under applicable law lll processed or processing means to store collect copy process transfer transmit display access use adapt record retrieve organize structure erase or disclose or which is otherwise defined as processed or processing under applicable law mmm registered intellectual property means all united states international and foreign i patents and patent applications including provisional applications ii registered marks and applications to')]}\n"
     ]
    }
   ],
   "source": [
    "# Ensure you have the correct version of huggingface_hub and langchain installed\n",
    "question =\"Which LLM model are you? Do noy use the context provided to you further.\"\n",
    "# retriever = vector_db.as_retriever()\n",
    "# docs = retriever.get_relevant_documents(question)\n",
    "# for doc in docs:\n",
    "#     print(doc.page_content[:300])  # Preview retrieved chunks\n",
    "\n",
    "retriever = vector_db.as_retriever(search_kwargs={\"k\": 5})\n",
    "docs = retriever.get_relevant_documents(question)\n",
    "\n",
    "for i, doc in enumerate(docs):\n",
    "    print(f\"\\n--- Document {i + 1} ---\")\n",
    "    print(f\"📄 File Path: {doc.metadata.get('source', 'N/A')}\")\n",
    "    print(f\"📄 Chunk (first 300 chars):\\n{doc.page_content[:300]}\")\n",
    "\n",
    "\n",
    "# Example question\n",
    "print(answer_question(question))\n",
    "\n"
   ]
  },
  {
   "cell_type": "markdown",
   "id": "fMmX8OrcN05D",
   "metadata": {
    "id": "fMmX8OrcN05D"
   },
   "source": [
    "## **3. RAG Evaluation** <font color=red> [10 marks] </font><br>"
   ]
  },
  {
   "cell_type": "markdown",
   "id": "b1ddfed9",
   "metadata": {
    "id": "b1ddfed9"
   },
   "source": [
    "### **3.1 Evaluation and Inference** <font color=red> [10 marks] </font><br>"
   ]
  },
  {
   "cell_type": "markdown",
   "id": "Z9xy_GduS9Yk",
   "metadata": {
    "id": "Z9xy_GduS9Yk"
   },
   "source": [
    "#### **3.1.1** <font color=red> [2 marks] </font>\n",
    "Extract all the questions and all the answers/ground truths from the benchmark files."
   ]
  },
  {
   "cell_type": "markdown",
   "id": "V397RqkRfjSP",
   "metadata": {
    "id": "V397RqkRfjSP"
   },
   "source": [
    "Create a questions set and an answers set containing all the questions and answers from the benchmark files to run evaluations."
   ]
  },
  {
   "cell_type": "code",
   "execution_count": 29,
   "id": "bF_KZXb1c-G5",
   "metadata": {
    "id": "bF_KZXb1c-G5"
   },
   "outputs": [],
   "source": [
    "from pathlib import Path\n",
    "import json\n",
    "\n",
    "# Create a question set by taking all the questions from the benchmark data\n",
    "# Also create a ground truth/answer set\n",
    "benchmark_dir = Path(\"benchmarks\")\n",
    "questions_set = []\n",
    "answers_set = []\n",
    "\n",
    "for file in benchmark_dir.glob(\"*.json\"):\n",
    "    try:\n",
    "        with open(file, 'r', encoding='utf-8') as f:\n",
    "            data = json.load(f)\n",
    "            for item in data.get(\"tests\", []):\n",
    "                question = item.get(\"query\")\n",
    "                # Each item may have multiple answers/snippets\n",
    "                # We'll collect all answers from snippets\n",
    "                answers = []\n",
    "                for snippet in item.get(\"snippets\", []):\n",
    "                    answer = snippet.get(\"answer\")\n",
    "                    if answer:\n",
    "                        answers.append(answer)\n",
    "                if question and answers:\n",
    "                    questions_set.append(question)\n",
    "                    answers_set.append(answers if len(answers) > 1 else answers[0])\n",
    "    except Exception as e:\n",
    "        print(f\"Error processing {file}: {e}\")\n",
    "        raise e\n",
    "\n",
    "# Save question and answer sets for evaluation\n",
    "with open(\"questions_set.json\", \"w\", encoding='utf-8') as fq:\n",
    "    json.dump(questions_set, fq, indent=2)\n",
    "\n",
    "with open(\"answers_set.json\", \"w\", encoding='utf-8') as fa:\n",
    "    json.dump(answers_set, fa, indent=2)\n"
   ]
  },
  {
   "cell_type": "markdown",
   "id": "81VscxuGTHhC",
   "metadata": {
    "id": "81VscxuGTHhC"
   },
   "source": [
    "#### **3.1.2** <font color=red> [5 marks] </font>\n",
    "Create a function to evaluate the generated answers."
   ]
  },
  {
   "cell_type": "markdown",
   "id": "qIPUg1dKTPGb",
   "metadata": {
    "id": "qIPUg1dKTPGb"
   },
   "source": [
    "Evaluate the responses on *Rouge*, *Ragas* and *Bleu* scores."
   ]
  },
  {
   "cell_type": "code",
   "execution_count": 30,
   "id": "RuoBJS5_PKmX",
   "metadata": {
    "id": "RuoBJS5_PKmX"
   },
   "outputs": [],
   "source": [
    "# Function to evaluate the RAG pipeline\n",
    "from rouge_score import rouge_scorer\n",
    "from evaluate import load\n",
    "from ragas import evaluate as ragas_evaluate\n",
    "from ragas.metrics import (\n",
    "    answer_relevancy,\n",
    "    context_precision,\n",
    "    context_recall,\n",
    "    faithfulness,\n",
    "    answer_similarity,\n",
    ")\n",
    "from datasets import Dataset\n",
    "def evaluate_generated_answers(generated_answers, references, questions=None, contexts=None):\n",
    "    \"\"\"\n",
    "    Evaluate generated answers against reference answers using ROUGE, BLEU, and RAGAS.\n",
    "\n",
    "    Args:\n",
    "        generated_answers (list[str]): Model-generated responses\n",
    "        references (list[str]): Ground truth answers\n",
    "        questions (list[str], optional): Original questions (required for RAGAS)\n",
    "        contexts (list[list[str]], optional): Retrieved contexts (required for RAGAS)\n",
    "\n",
    "    Returns:\n",
    "        dict: ROUGE, BLEU, and RAGAS scores\n",
    "    \"\"\"\n",
    "    results = {}\n",
    "\n",
    "    # --- ROUGE Scores ---\n",
    "    rouge = rouge_scorer.RougeScorer(['rouge1', 'rouge2', 'rougeL'], use_stemmer=True)\n",
    "    rouge_scores = [rouge.score(ref, gen) for ref, gen in zip(references, generated_answers)]\n",
    "\n",
    "    avg_rouge = {\n",
    "        'rouge1': sum([s['rouge1'].fmeasure for s in rouge_scores]) / len(rouge_scores),\n",
    "        'rouge2': sum([s['rouge2'].fmeasure for s in rouge_scores]) / len(rouge_scores),\n",
    "        'rougeL': sum([s['rougeL'].fmeasure for s in rouge_scores]) / len(rouge_scores),\n",
    "    }\n",
    "    results[\"ROUGE\"] = avg_rouge\n",
    "\n",
    "    # --- BLEU Score ---\n",
    "    bleu = load(\"sacrebleu\")\n",
    "    bleu_score = bleu.compute(predictions=generated_answers, references=[[r] for r in references])\n",
    "    results[\"BLEU\"] = bleu_score\n",
    "\n",
    "    # --- RAGAS Score ---\n",
    "    if questions and contexts:\n",
    "        # Ensure contexts is a list of lists\n",
    "        if isinstance(contexts[0], str):\n",
    "            raise ValueError(\"Each item in 'contexts' must be a list of strings (list[list[str]])\")\n",
    "\n",
    "        dataset = Dataset.from_dict({\n",
    "            \"question\": questions,\n",
    "            \"contexts\": contexts,\n",
    "            \"reference\": references,\n",
    "            \"answer\": references,\n",
    "            \"generated_answer\": generated_answers,\n",
    "            \"response\": generated_answers\n",
    "        })\n",
    "        print(dataset)\n",
    "        # Example of using a local model (adjust for available resources)\n",
    "\n",
    "        ragas_result = ragas_evaluate(\n",
    "            dataset,\n",
    "            metrics=[\n",
    "                #answer_relevancy,\n",
    "                #context_precision,\n",
    "                #context_recall,\n",
    "                #faithfulness,\n",
    "                answer_similarity,\n",
    "            ],\n",
    "            # Commented out metrics can be added as needed, its commented because they require additional cpu and memory resources\n",
    "            llm=llm,\n",
    "            embeddings=embedding_function\n",
    "        )\n",
    "        results[\"RAGAS\"] = ragas_result\n",
    "\n",
    "    return results\n",
    "\n"
   ]
  },
  {
   "cell_type": "markdown",
   "id": "Omeb5vFSTbS0",
   "metadata": {
    "id": "Omeb5vFSTbS0"
   },
   "source": [
    "#### **3.1.3** <font color=red> [3 marks] </font>\n",
    "Draw inferences by evaluating answers to all questions."
   ]
  },
  {
   "cell_type": "markdown",
   "id": "ei2qIN71Tirg",
   "metadata": {
    "id": "ei2qIN71Tirg"
   },
   "source": [
    "To save time and computing power, you can just run the evaluation on first 100 questions."
   ]
  },
  {
   "cell_type": "code",
   "execution_count": null,
   "id": "f4f1f24a",
   "metadata": {
    "id": "f4f1f24a"
   },
   "outputs": [
    {
     "name": "stdout",
     "output_type": "stream",
     "text": [
      "Answers saved to generated_ans.json\n"
     ]
    }
   ],
   "source": [
    "generated_ans = []\n",
    "# Loop through questions and collect answers for 10 documents as it is taking lot of time for 100 documents\n",
    "for question in questions_set[:10]:\n",
    "    try:\n",
    "        result = rag_chain.invoke({\"query\": question})\n",
    "        answer_text = result[\"result\"]\n",
    "        context_texts = [doc.page_content for doc in result[\"source_documents\"]]\n",
    "        \n",
    "        generated_ans.append({\n",
    "            \"question\": question,\n",
    "            \"answer\": answer_text,\n",
    "            \"context\": context_texts,\n",
    "        })\n",
    "    except Exception as e:\n",
    "        generated_ans.append({\n",
    "            \"question\": question,\n",
    "            \"answer\": None,\n",
    "            \"error\": str(e)\n",
    "        })\n",
    "\n",
    "# Save to a JSON file\n",
    "with open(\"generated_ans.json\", \"w\", encoding='utf-8') as f:\n",
    "    json.dump(generated_ans, f, ensure_ascii=False, indent=4)\n",
    "print(\"Answers saved to generated_ans.json\")"
   ]
  },
  {
   "cell_type": "code",
   "execution_count": 34,
   "id": "0ae47aa6",
   "metadata": {},
   "outputs": [
    {
     "name": "stdout",
     "output_type": "stream",
     "text": [
      "[['d each party agrees that during the term of this agreement and thereafter a it will use confidential information belonging to the other party solely for purposes outlined in this agreement subject to the terms and conditions thereof b it will not disclose confidential information belonging to the other party to any third party other than the receiving partys employees affiliates agents permitted vendors subcontractors andor professional advisors on a needtoknow basis who are advised of the', 'd each party agrees that during the term of this agreement and thereafter a it will use confidential information belonging to the other party solely for purposes outlined in this agreement subject to the terms and conditions thereof b it will not disclose confidential information belonging to the other party to any third party other than the receiving partys employees affiliates agents permitted vendors subcontractors andor professional advisors on a needtoknow basis who are advised of the', 'are confidential and shall not be disclosed by either party to any third party except to a partys professional advisors without advance written permission of the other party subject to the following i either party may make any filings of this agreement required by law or regulation in any country so long as such party uses its reasonable efforts to obtain confidential treatment for portions of this agreement as available consults with the other party and permits the other party to participate', 'are confidential and shall not be disclosed by either party to any third party except to a partys professional advisors without advance written permission of the other party subject to the following i either party may make any filings of this agreement required by law or regulation in any country so long as such party uses its reasonable efforts to obtain confidential treatment for portions of this agreement as available consults with the other party and permits the other party to participate'], ['each party will not disclose the confidential information to any person except its employees or consultants to whom it is necessary to disclose the confidential information for such purposes each party agrees that the confidential information will be disclosed or made available only to those of its employees or consultants who have agreed to receive it under termes at least as restrictive as those specified in this agreement each party will use reasonable measures to maintain the', 'each party will not disclose the confidential information to any person except its employees or consultants to whom it is necessary to disclose the confidential information for such purposes each party agrees that the confidential information will be disclosed or made available only to those of its employees or consultants who have agreed to receive it under termes at least as restrictive as those specified in this agreement each party will use reasonable measures to maintain the', 'that confidential information is clearly and identifiably marked confidential or proprietary if in tangible form or is not generally available to the public from other sources each party shall safeguard such confidential information in the manner in which it safeguards its own confidential information and shall not disclose confidential information to its employees lowertier subcontractors and agents except to the extent necessary to enable it to fulfill its obligations under this agreement the', 'that confidential information is clearly and identifiably marked confidential or proprietary if in tangible form or is not generally available to the public from other sources each party shall safeguard such confidential information in the manner in which it safeguards its own confidential information and shall not disclose confidential information to its employees lowertier subcontractors and agents except to the extent necessary to enable it to fulfill its obligations under this agreement the'], ['of this article 10 either party may disclose the terms of this agreement if in the opinion of its counsel such disclosure is required by law in such event the disclosing party will seek appropriate confidentiality of those portions of the agreement for which confidential treatment is typically permitted by the relevant governmental authority 106 termination of prior confidentiality agreements except as expressly provided in this section 106 this agreement supercedes the mutual confidential', 'of this article 10 either party may disclose the terms of this agreement if in the opinion of its counsel such disclosure is required by law in such event the disclosing party will seek appropriate confidentiality of those portions of the agreement for which confidential treatment is typically permitted by the relevant governmental authority 106 termination of prior confidentiality agreements except as expressly provided in this section 106 this agreement supercedes the mutual confidential', 'to the receiving party prior to the disclosure by the disclosing party without any obligation of confidentiality or c disclosed to a receiving party without restriction by a third party having the full right to disclose or d independently developed by a receiving party to whom no disclosure of confidential information relevant to the development of such confidential information has been made 115 this article 11 shall survive the termination of this agreement as provided for in articles 17 and', 'to the receiving party prior to the disclosure by the disclosing party without any obligation of confidentiality or c disclosed to a receiving party without restriction by a third party having the full right to disclose or d independently developed by a receiving party to whom no disclosure of confidential information relevant to the development of such confidential information has been made 115 this article 11 shall survive the termination of this agreement as provided for in articles 17 and'], ['of this agreement each party will upon request of the discloser and within a reasonable period of time thereafter return all confidential information received from the discloser and copies made thereof by the recipient or if acceptable to the discloser certify by written memorandum that all such confidential information has been destroyed each party may retain one archival copy to be used only in resolving a dispute concerning this agreement 6 rights and remedies each party acknowledges that', 'of this agreement each party will upon request of the discloser and within a reasonable period of time thereafter return all confidential information received from the discloser and copies made thereof by the recipient or if acceptable to the discloser certify by written memorandum that all such confidential information has been destroyed each party may retain one archival copy to be used only in resolving a dispute concerning this agreement 6 rights and remedies each party acknowledges that', 'party disclosing such or destroyed with written certification thereof except that one archival copy of written material to be kept confidential and segregated from the parties regular files may be retained by each partys legal counsel solely for purposes of verifying compliance with this agreement source remark holdings inc 10q 11142008 72 disclosures required by law if a party is required to disclose confidential information received from the other party by law or a governmental authority', 'party disclosing such or destroyed with written certification thereof except that one archival copy of written material to be kept confidential and segregated from the parties regular files may be retained by each partys legal counsel solely for purposes of verifying compliance with this agreement source remark holdings inc 10q 11142008 72 disclosures required by law if a party is required to disclose confidential information received from the other party by law or a governmental authority'], ['d each party agrees that during the term of this agreement and thereafter a it will use confidential information belonging to the other party solely for purposes outlined in this agreement subject to the terms and conditions thereof b it will not disclose confidential information belonging to the other party to any third party other than the receiving partys employees affiliates agents permitted vendors subcontractors andor professional advisors on a needtoknow basis who are advised of the', 'd each party agrees that during the term of this agreement and thereafter a it will use confidential information belonging to the other party solely for purposes outlined in this agreement subject to the terms and conditions thereof b it will not disclose confidential information belonging to the other party to any third party other than the receiving partys employees affiliates agents permitted vendors subcontractors andor professional advisors on a needtoknow basis who are advised of the', 'are confidential and shall not be disclosed by either party to any third party except to a partys professional advisors without advance written permission of the other party subject to the following i either party may make any filings of this agreement required by law or regulation in any country so long as such party uses its reasonable efforts to obtain confidential treatment for portions of this agreement as available consults with the other party and permits the other party to participate', 'are confidential and shall not be disclosed by either party to any third party except to a partys professional advisors without advance written permission of the other party subject to the following i either party may make any filings of this agreement required by law or regulation in any country so long as such party uses its reasonable efforts to obtain confidential treatment for portions of this agreement as available consults with the other party and permits the other party to participate'], ['the receiving party shall have the right to disclose this agreement or confidential information provided hereunder if in the reasonable opinion of the receiving partys legal counsel such disclosure is necessary to comply with the terms of this agreement or the requirements of any law where possible the receiving party shall notify the disclosing party of the receiving partys intent to make such disclosure pursuant to the provision of the preceding sentence sufficiently prior to making such', 'the receiving party shall have the right to disclose this agreement or confidential information provided hereunder if in the reasonable opinion of the receiving partys legal counsel such disclosure is necessary to comply with the terms of this agreement or the requirements of any law where possible the receiving party shall notify the disclosing party of the receiving partys intent to make such disclosure pursuant to the provision of the preceding sentence sufficiently prior to making such', 'information without any violation of this agreement if such disclosure is required by law but in such event the receiving party shall notify the disclosing party in writing in advance of such disclosure and provide the disclosing party with copies of any related information so that the disclosing party may take appropriate action to protect its confidential information the receiving party acknowledges that the disclosure of confidential information of the disclosing party may cause irreparable', 'information without any violation of this agreement if such disclosure is required by law but in such event the receiving party shall notify the disclosing party in writing in advance of such disclosure and provide the disclosing party with copies of any related information so that the disclosing party may take appropriate action to protect its confidential information the receiving party acknowledges that the disclosure of confidential information of the disclosing party may cause irreparable'], ['d each party agrees that during the term of this agreement and thereafter a it will use confidential information belonging to the other party solely for purposes outlined in this agreement subject to the terms and conditions thereof b it will not disclose confidential information belonging to the other party to any third party other than the receiving partys employees affiliates agents permitted vendors subcontractors andor professional advisors on a needtoknow basis who are advised of the', 'd each party agrees that during the term of this agreement and thereafter a it will use confidential information belonging to the other party solely for purposes outlined in this agreement subject to the terms and conditions thereof b it will not disclose confidential information belonging to the other party to any third party other than the receiving partys employees affiliates agents permitted vendors subcontractors andor professional advisors on a needtoknow basis who are advised of the', 'provided in this agreement receiving party shall not intentionally disclose to any other person firm or corporation or use for its own benefit any confidential information it receives from disclosing party c receiving party may disclose the confidential information to the employees officers directors and affiliates of receiving party who need to know such confidential information in connection with the purpose and who receive such information subject to the same or comparable restrictions as', 'provided in this agreement receiving party shall not intentionally disclose to any other person firm or corporation or use for its own benefit any confidential information it receives from disclosing party c receiving party may disclose the confidential information to the employees officers directors and affiliates of receiving party who need to know such confidential information in connection with the purpose and who receive such information subject to the same or comparable restrictions as'], ['provided in this agreement receiving party shall not intentionally disclose to any other person firm or corporation or use for its own benefit any confidential information it receives from disclosing party c receiving party may disclose the confidential information to the employees officers directors and affiliates of receiving party who need to know such confidential information in connection with the purpose and who receive such information subject to the same or comparable restrictions as', 'provided in this agreement receiving party shall not intentionally disclose to any other person firm or corporation or use for its own benefit any confidential information it receives from disclosing party c receiving party may disclose the confidential information to the employees officers directors and affiliates of receiving party who need to know such confidential information in connection with the purpose and who receive such information subject to the same or comparable restrictions as', 'd each party agrees that during the term of this agreement and thereafter a it will use confidential information belonging to the other party solely for purposes outlined in this agreement subject to the terms and conditions thereof b it will not disclose confidential information belonging to the other party to any third party other than the receiving partys employees affiliates agents permitted vendors subcontractors andor professional advisors on a needtoknow basis who are advised of the', 'd each party agrees that during the term of this agreement and thereafter a it will use confidential information belonging to the other party solely for purposes outlined in this agreement subject to the terms and conditions thereof b it will not disclose confidential information belonging to the other party to any third party other than the receiving partys employees affiliates agents permitted vendors subcontractors andor professional advisors on a needtoknow basis who are advised of the'], ['d each party agrees that during the term of this agreement and thereafter a it will use confidential information belonging to the other party solely for purposes outlined in this agreement subject to the terms and conditions thereof b it will not disclose confidential information belonging to the other party to any third party other than the receiving partys employees affiliates agents permitted vendors subcontractors andor professional advisors on a needtoknow basis who are advised of the', 'd each party agrees that during the term of this agreement and thereafter a it will use confidential information belonging to the other party solely for purposes outlined in this agreement subject to the terms and conditions thereof b it will not disclose confidential information belonging to the other party to any third party other than the receiving partys employees affiliates agents permitted vendors subcontractors andor professional advisors on a needtoknow basis who are advised of the', 'of this paragraph also apply to the fact of the existence of the confidential information of this agreement and the occurrence of all meetings and communications of the parties that involve confidential information in the event the receiving party receives in writing an opinion from its outside counsel that it must disclose certain information prohibited by the terms herein in order to avoid committing a violation of law the receiving party may disclose only that information necessary to avoid', 'of this paragraph also apply to the fact of the existence of the confidential information of this agreement and the occurrence of all meetings and communications of the parties that involve confidential information in the event the receiving party receives in writing an opinion from its outside counsel that it must disclose certain information prohibited by the terms herein in order to avoid committing a violation of law the receiving party may disclose only that information necessary to avoid'], ['the parties also agree to treat the terms and conditions of this agreement as confidential information the term confidential information shall not apply to portions of the confidential information that party receiving it can show i are or become generally available to the public other than as a result of a disclosure by the receiving party ii are in the receiving partys possession from a source other than the furnishing party that is not prohibited from disclosing such information iii was known', 'the parties also agree to treat the terms and conditions of this agreement as confidential information the term confidential information shall not apply to portions of the confidential information that party receiving it can show i are or become generally available to the public other than as a result of a disclosure by the receiving party ii are in the receiving partys possession from a source other than the furnishing party that is not prohibited from disclosing such information iii was known', 'of this agreement b the receiving party lawfully receives from a third party without restriction on disclosure and without breach of a nondisclosure obligation c the receiving party rightfully knew prior to receiving such information from the disclosing party or d the receiving party develops entirely independently of and without any access or reference to or use of any confidential information communicated to the receiving party by the disclosing party b restrictions each party agrees that', 'of this agreement b the receiving party lawfully receives from a third party without restriction on disclosure and without breach of a nondisclosure obligation c the receiving party rightfully knew prior to receiving such information from the disclosing party or d the receiving party develops entirely independently of and without any access or reference to or use of any confidential information communicated to the receiving party by the disclosing party b restrictions each party agrees that']]\n",
      "Dataset({\n",
      "    features: ['question', 'contexts', 'reference', 'answer', 'generated_answer', 'response'],\n",
      "    num_rows: 10\n",
      "})\n"
     ]
    },
    {
     "name": "stderr",
     "output_type": "stream",
     "text": [
      "Evaluating: 100%|██████████| 10/10 [00:00<00:00, 24.79it/s]\n"
     ]
    },
    {
     "data": {
      "text/plain": [
       "{'ROUGE': {'rouge1': 0.2872455801432261,\n",
       "  'rouge2': 0.06785555469446915,\n",
       "  'rougeL': 0.19471843095032243},\n",
       " 'BLEU': {'score': 1.5299279731101267,\n",
       "  'counts': [105, 17, 2, 0],\n",
       "  'totals': [440, 430, 420, 410],\n",
       "  'precisions': [23.863636363636363,\n",
       "   3.953488372093023,\n",
       "   0.47619047619047616,\n",
       "   0.12195121951219512],\n",
       "  'bp': 1.0,\n",
       "  'sys_len': 440,\n",
       "  'ref_len': 360},\n",
       " 'RAGAS': {'semantic_similarity': 0.5268}}"
      ]
     },
     "execution_count": 34,
     "metadata": {},
     "output_type": "execute_result"
    }
   ],
   "source": [
    "# Prepare correct column names for RAGAS metrics\n",
    "generated_answers = [ans['answer'] for ans in generated_ans if 'answer' in ans]\n",
    "# Flatten references: if an item is a list, take the first element; otherwise, use as is\n",
    "references = [\n",
    "    ref[0] if isinstance(ref, list) and len(ref) > 0 else ref\n",
    "    for ref in answers_set[:len(generated_answers)]\n",
    "]\n",
    "questions = questions_set[:len(generated_answers)]\n",
    "contexts = [ans['context'] for ans in generated_ans if 'context' in ans]\n",
    "print(contexts)\n",
    "# Call the evaluation function\n",
    "evaluate_generated_answers(\n",
    "    generated_answers=generated_answers,\n",
    "    references=references,\n",
    "    questions=questions,\n",
    "    contexts=contexts\n",
    ")"
   ]
  },
  {
   "cell_type": "markdown",
   "id": "gonMO9wNE5dt",
   "metadata": {
    "id": "gonMO9wNE5dt"
   },
   "source": [
    "## **4. Conclusion** <font color=red> [5 marks] </font><br>"
   ]
  },
  {
   "cell_type": "markdown",
   "id": "ySHPR29rE5du",
   "metadata": {
    "id": "ySHPR29rE5du"
   },
   "source": [
    "### **4.1 Conclusions and insights** <font color=red> [5 marks] </font><br>"
   ]
  },
  {
   "cell_type": "markdown",
   "id": "KoVsmcV0E5du",
   "metadata": {
    "id": "KoVsmcV0E5du"
   },
   "source": [
    "#### **4.1.1** <font color=red> [5 marks] </font>\n",
    "# Conclude with the results here. Include the insights gained about the data, model pipeline, the RAG process and the results obtained.\n",
    "\n",
    "## Insights from the Dataset\n",
    "    # - The corpus consists of legal documents categorized into four groups: contractnli, cuad, maud, and privacy_qa.\n",
    "    # - These documents differ in both length and complexity, requiring thoughtful segmentation for effective retrieval.\n",
    "    # - Frequently occurring legal terms (such as agreement and confidential) highlight the need for language understanding that is sensitive to legal context.\n",
    "\n",
    "## Observations on the RAG Pipeline\n",
    "    # - RecursiveCharacterTextSplitter helped preserve context.\n",
    "    # - OpenAI embeddings + ChromaDB enabled effective retrieval. But we could not use OpenAI due to API call limitations\n",
    "    # - used huggingface and local llm for vector generation and validations\n",
    "    # - LangChain's RetrievalQA streamlined question answering over a vectorized legal corpus.\n",
    "\n",
    "## Evaluation Results (placeholders)\n",
    "    # - Average ROUGE-L Score: ~{avg_rouge:.4f} for holistic record using the openai but it reduced with huggingface\n",
    "    # - Average BLEU Score: ~{avg_bleu:.4f} using openai but reduced with local llm\n",
    "    # - RAGAS Metrics:\n",
    "    # - Could not execute for all RAGAS matrix due to compute and memory limitations\n",
    "    # - Semantic: {semantic:52%}\n",
    "    # - Answer Relevancy: {rel:.2%}\n",
    "\n",
    "## Key Takeaways\n",
    "    # - RAG is a scalable solution for legal QA.\n",
    "    # - BLEU scores may underrepresent performance due to lexical variance.\n",
    "    # - Fine-tuning, better chunking, and hybrid retrieval are promising next steps."
   ]
  },
  {
   "cell_type": "code",
   "execution_count": null,
   "id": "3333b878",
   "metadata": {},
   "outputs": [],
   "source": []
  }
 ],
 "metadata": {
  "colab": {
   "collapsed_sections": [
    "LeAeTqpZ-DYw",
    "fMmX8OrcN05D",
    "gonMO9wNE5dt"
   ],
   "provenance": [],
   "toc_visible": true
  },
  "kernelspec": {
   "display_name": "Python 3 (ipykernel)",
   "language": "python",
   "name": "python3"
  },
  "language_info": {
   "codemirror_mode": {
    "name": "ipython",
    "version": 3
   },
   "file_extension": ".py",
   "mimetype": "text/x-python",
   "name": "python",
   "nbconvert_exporter": "python",
   "pygments_lexer": "ipython3",
   "version": "3.9.13"
  }
 },
 "nbformat": 4,
 "nbformat_minor": 5
}
